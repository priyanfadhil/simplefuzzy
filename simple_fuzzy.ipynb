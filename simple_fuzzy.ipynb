{
  "nbformat": 4,
  "nbformat_minor": 0,
  "metadata": {
    "colab": {
      "name": "PengantarAI2.ipynb",
      "provenance": [],
      "collapsed_sections": []
    },
    "kernelspec": {
      "display_name": "Python 3",
      "name": "python3"
    },
    "language_info": {
      "name": "python"
    }
  },
  "cells": [
    {
      "cell_type": "markdown",
      "metadata": {
        "id": "9oyUVCoFbOr1"
      },
      "source": [
        "#**Tugas Pemrograman 2 Pengantar AI**\n",
        "\n",
        "**Kelompok : 6**\n",
        "\n",
        "**Kelas : IF-43-09**\n",
        "\n",
        "**Nama Anggota Kelompok :**\n",
        "1. Claudia Mei Serin Sitio / 1301190424\n",
        "2. Priyan Fadhil Supriyadi / 1301190442\n",
        "3. Vena Erla Candrika / 1301194040"
      ]
    },
    {
      "cell_type": "code",
      "metadata": {
        "id": "ZcplAM28vJMm"
      },
      "source": [
        "import numpy as np\n",
        "import pandas as pd\n",
        "import matplotlib.pyplot as plt"
      ],
      "execution_count": null,
      "outputs": []
    },
    {
      "cell_type": "code",
      "metadata": {
        "colab": {
          "base_uri": "https://localhost:8080/",
          "height": 355
        },
        "id": "57-20hFtyqYx",
        "outputId": "1d690bb1-b838-4afa-d80c-544ba1e09f80"
      },
      "source": [
        "url = 'https://github.com/priyanfadhil/simplefuzzy/blob/main/restoran.xlsx?raw=true'\n",
        "data_resto = pd.read_excel(url)\n",
        "data_resto.columns = [\"id\", \"pelayanan\", \"makanan\"]\n",
        "data_resto.head(10)"
      ],
      "execution_count": null,
      "outputs": [
        {
          "output_type": "execute_result",
          "data": {
            "text/html": [
              "<div>\n",
              "<style scoped>\n",
              "    .dataframe tbody tr th:only-of-type {\n",
              "        vertical-align: middle;\n",
              "    }\n",
              "\n",
              "    .dataframe tbody tr th {\n",
              "        vertical-align: top;\n",
              "    }\n",
              "\n",
              "    .dataframe thead th {\n",
              "        text-align: right;\n",
              "    }\n",
              "</style>\n",
              "<table border=\"1\" class=\"dataframe\">\n",
              "  <thead>\n",
              "    <tr style=\"text-align: right;\">\n",
              "      <th></th>\n",
              "      <th>id</th>\n",
              "      <th>pelayanan</th>\n",
              "      <th>makanan</th>\n",
              "    </tr>\n",
              "  </thead>\n",
              "  <tbody>\n",
              "    <tr>\n",
              "      <th>0</th>\n",
              "      <td>1</td>\n",
              "      <td>58</td>\n",
              "      <td>7</td>\n",
              "    </tr>\n",
              "    <tr>\n",
              "      <th>1</th>\n",
              "      <td>2</td>\n",
              "      <td>54</td>\n",
              "      <td>1</td>\n",
              "    </tr>\n",
              "    <tr>\n",
              "      <th>2</th>\n",
              "      <td>3</td>\n",
              "      <td>98</td>\n",
              "      <td>2</td>\n",
              "    </tr>\n",
              "    <tr>\n",
              "      <th>3</th>\n",
              "      <td>4</td>\n",
              "      <td>52</td>\n",
              "      <td>4</td>\n",
              "    </tr>\n",
              "    <tr>\n",
              "      <th>4</th>\n",
              "      <td>5</td>\n",
              "      <td>11</td>\n",
              "      <td>4</td>\n",
              "    </tr>\n",
              "    <tr>\n",
              "      <th>5</th>\n",
              "      <td>6</td>\n",
              "      <td>59</td>\n",
              "      <td>10</td>\n",
              "    </tr>\n",
              "    <tr>\n",
              "      <th>6</th>\n",
              "      <td>7</td>\n",
              "      <td>61</td>\n",
              "      <td>8</td>\n",
              "    </tr>\n",
              "    <tr>\n",
              "      <th>7</th>\n",
              "      <td>8</td>\n",
              "      <td>30</td>\n",
              "      <td>10</td>\n",
              "    </tr>\n",
              "    <tr>\n",
              "      <th>8</th>\n",
              "      <td>9</td>\n",
              "      <td>45</td>\n",
              "      <td>1</td>\n",
              "    </tr>\n",
              "    <tr>\n",
              "      <th>9</th>\n",
              "      <td>10</td>\n",
              "      <td>36</td>\n",
              "      <td>9</td>\n",
              "    </tr>\n",
              "  </tbody>\n",
              "</table>\n",
              "</div>"
            ],
            "text/plain": [
              "   id  pelayanan  makanan\n",
              "0   1         58        7\n",
              "1   2         54        1\n",
              "2   3         98        2\n",
              "3   4         52        4\n",
              "4   5         11        4\n",
              "5   6         59       10\n",
              "6   7         61        8\n",
              "7   8         30       10\n",
              "8   9         45        1\n",
              "9  10         36        9"
            ]
          },
          "metadata": {
            "tags": []
          },
          "execution_count": 58
        }
      ]
    },
    {
      "cell_type": "markdown",
      "metadata": {
        "id": "KQIyVJm6Q-Xk"
      },
      "source": [
        "### **Fungsi Keanggotaan Makanan**\n",
        "mendefinisikan fungsi keanggotaan <br>\n",
        "tidak enak, cukup, enak, sangat enak"
      ]
    },
    {
      "cell_type": "code",
      "metadata": {
        "id": "oqsvm42aZkoB"
      },
      "source": [
        "a = 3\n",
        "b = 4\n",
        "c = 6\n",
        "d = 7\n",
        "e = 8\n",
        "f = 9"
      ],
      "execution_count": null,
      "outputs": []
    },
    {
      "cell_type": "code",
      "metadata": {
        "id": "Aklh8vV7RlXN"
      },
      "source": [
        "def tidak_enak(makanan):\n",
        "  if makanan <= a:\n",
        "    return 1\n",
        "  if makanan > a and makanan < b :\n",
        "    return -(makanan - b) / (b - a)\n",
        "  elif makanan >= b:\n",
        "    return 0\n",
        "\n",
        "def biasa(makanan):\n",
        "  if makanan > a and makanan < b:\n",
        "    return (makanan - a) / (b - a)\n",
        "  if makanan >= b and makanan <= c:\n",
        "    return 1\n",
        "  if makanan > c and makanan < d:\n",
        "    return -(makanan - d) / (d - c)\n",
        "  elif makanan <= a or makanan >= d:\n",
        "    return 0\n",
        "\n",
        "def enak(makanan):\n",
        "  if makanan > c and makanan < d:\n",
        "    return (makanan - c) / (d - c)\n",
        "  if makanan >= d and makanan <= e:\n",
        "    return 1\n",
        "  if makanan > e and makanan < f:\n",
        "    return -(makanan - f) / (f - e)\n",
        "  elif makanan <= c or makanan >= f:\n",
        "    return 0\n",
        "\n",
        "def sangat_enak(makanan):\n",
        "  if makanan >= f:\n",
        "    return 1\n",
        "  if makanan > e and makanan < f :\n",
        "    return (makanan - e) / (f - e)\n",
        "  elif makanan <= e:\n",
        "    return 0"
      ],
      "execution_count": null,
      "outputs": []
    },
    {
      "cell_type": "code",
      "metadata": {
        "colab": {
          "base_uri": "https://localhost:8080/",
          "height": 281
        },
        "id": "Tx3pQBbXqQzV",
        "outputId": "283676e2-877f-4aba-953c-9b90b1f74ad2"
      },
      "source": [
        "value = range(11)\n",
        "plt.plot(value, [tidak_enak(x) for x in value], 'b')\n",
        "plt.plot(value, [biasa(x) for x in value], 'm')\n",
        "plt.plot(value, [enak(x) for x in value], 'g')\n",
        "plt.plot(value, [sangat_enak(x) for x in value], 'r')\n",
        "plt.title(\"Food Quality Membership Function\")\n",
        "\n",
        "plt.plot(0, 0, 'b', label='Tidak Enak')\n",
        "plt.plot(0, 0, 'm', label='Biasa')\n",
        "plt.plot(0, 0, 'g', label='Enak')\n",
        "plt.plot(0, 0, 'r', label='Sangat Enak')\n",
        "plt.legend()\n",
        "plt.show()"
      ],
      "execution_count": null,
      "outputs": [
        {
          "output_type": "display_data",
          "data": {
            "image/png": "[encoded data removed]",
            "text/plain": [
              "<Figure size 432x288 with 1 Axes>"
            ]
          },
          "metadata": {
            "tags": [],
            "needs_background": "light"
          }
        }
      ]
    },
    {
      "cell_type": "markdown",
      "metadata": {
        "id": "IQun9jehP0zI"
      },
      "source": [
        "### **Fungsi Keanggotaan Pelayanan**\n",
        "mendefinisikan fungsi keanggotaan <br>\n",
        "buruk, cukup, bagus, sangat bagus"
      ]
    },
    {
      "cell_type": "code",
      "metadata": {
        "id": "zin9Hgy0P7_g"
      },
      "source": [
        "g = 30\n",
        "h = 40\n",
        "i = 60\n",
        "j = 70\n",
        "k = 80\n",
        "l = 90"
      ],
      "execution_count": null,
      "outputs": []
    },
    {
      "cell_type": "code",
      "metadata": {
        "id": "THeUX8ziQvjC"
      },
      "source": [
        "def buruk(pelayanan):\n",
        "  if pelayanan <= g:\n",
        "    return 1\n",
        "  if pelayanan > g and pelayanan < h :\n",
        "    return -(pelayanan - h) / (h - g)\n",
        "  elif pelayanan >= h:\n",
        "    return 0\n",
        "\n",
        "def cukup(pelayanan):\n",
        "  if pelayanan > g and pelayanan < h:\n",
        "    return (pelayanan - g) / (h - g)\n",
        "  if pelayanan >= h and pelayanan <= i:\n",
        "    return 1\n",
        "  if pelayanan > i and pelayanan < j:\n",
        "    return -(pelayanan - j) / (j - i)\n",
        "  elif pelayanan <= g or pelayanan >= j:\n",
        "    return 0\n",
        "\n",
        "def bagus(pelayanan):\n",
        "  if pelayanan > i and pelayanan < j:\n",
        "    return (pelayanan - i) / (j - i)\n",
        "  if pelayanan >= j and pelayanan <= k:\n",
        "    return 1\n",
        "  if pelayanan > k and pelayanan < l:\n",
        "    return -(pelayanan - l) / (l - k)\n",
        "  elif pelayanan <= i or pelayanan >= l:\n",
        "    return 0\n",
        "\n",
        "def sangat_bagus(pelayanan):\n",
        "  if pelayanan >= l:\n",
        "    return 1\n",
        "  if pelayanan > k and pelayanan < l :\n",
        "    return (pelayanan - k) / (l - k)\n",
        "  elif pelayanan <= k:\n",
        "    return 0\n"
      ],
      "execution_count": null,
      "outputs": []
    },
    {
      "cell_type": "code",
      "metadata": {
        "colab": {
          "base_uri": "https://localhost:8080/",
          "height": 281
        },
        "id": "dY5Cxd28cIth",
        "outputId": "2b097060-39e6-46a3-c28c-95c662a79515"
      },
      "source": [
        "value = range(101)\n",
        "plt.plot(value, [buruk(x) for x in value], 'b')\n",
        "plt.plot(value, [cukup(x) for x in value], 'm')\n",
        "plt.plot(value, [bagus(x) for x in value], 'g')\n",
        "plt.plot(value, [sangat_bagus(x) for x in value], 'r')\n",
        "plt.title(\"Service Quality Membership Function\")\n",
        "\n",
        "plt.plot(0, 0, 'b', label='buruk')\n",
        "plt.plot(0, 0, 'm', label='cukup')\n",
        "plt.plot(0, 0, 'g', label='bagus')\n",
        "plt.plot(0, 0, 'r', label='sangat bagus')\n",
        "plt.legend()\n",
        "plt.show()"
      ],
      "execution_count": null,
      "outputs": [
        {
          "output_type": "display_data",
          "data": {
            "image/png": "[encoded data removed]",
            "text/plain": [
              "<Figure size 432x288 with 1 Axes>"
            ]
          },
          "metadata": {
            "tags": [],
            "needs_background": "light"
          }
        }
      ]
    },
    {
      "cell_type": "markdown",
      "metadata": {
        "id": "A2vh7yY0uaG4"
      },
      "source": [
        "### **Fuzifikasi**"
      ]
    },
    {
      "cell_type": "code",
      "metadata": {
        "id": "o5_MSi-frhb5"
      },
      "source": [
        "def fuzzifikasi_makanan(nilai_makanan):\n",
        "    food_set = {}\n",
        "    food_set['tidak enak'] = tidak_enak(nilai_makanan)\n",
        "    food_set['biasa'] = biasa(nilai_makanan)\n",
        "    food_set['enak'] = enak(nilai_makanan)\n",
        "    food_set['sangat enak'] = sangat_enak(nilai_makanan)\n",
        "    return food_set\n",
        "\n",
        "def fuzzifikasi_pelayanan(nilai_pelayanan):\n",
        "    service_set = {}\n",
        "    service_set['buruk'] = buruk(nilai_pelayanan)\n",
        "    service_set['cukup'] = cukup(nilai_pelayanan)\n",
        "    service_set['bagus'] = bagus(nilai_pelayanan)\n",
        "    service_set['sangat bagus'] = sangat_bagus(nilai_pelayanan)\n",
        "    return service_set"
      ],
      "execution_count": null,
      "outputs": []
    },
    {
      "cell_type": "markdown",
      "metadata": {
        "id": "n-YqOjy9uUz1"
      },
      "source": [
        "### **Inferensi dan Disjunction/Conjunction**"
      ]
    },
    {
      "cell_type": "code",
      "metadata": {
        "id": "rshTd1iyVVWT"
      },
      "source": [
        "def inferensi(food_set,  service_set):\n",
        "  inference_set = {'direkomendasikan': [],'sedang': [], 'tidak direkomendasikan': []}\n",
        "\n",
        "  inference_set['direkomendasikan'].append(min(food_set['sangat enak'],service_set['sangat bagus']))\n",
        "  inference_set['direkomendasikan'].append(min(food_set['sangat enak'],service_set['bagus']))\n",
        "  inference_set['sedang'].append(min(food_set['sangat enak'],service_set['cukup']))\n",
        "  inference_set['tidak direkomendasikan'].append(min(food_set['sangat enak'],service_set['buruk']))\n",
        "\n",
        "  inference_set['direkomendasikan'].append(min(food_set['enak'],service_set['sangat bagus']))\n",
        "  inference_set['sedang'].append(min(food_set['enak'],service_set['bagus']))\n",
        "  inference_set['sedang'].append(min(food_set['enak'],service_set['cukup']))\n",
        "  inference_set['tidak direkomendasikan'].append(min(food_set['enak'],service_set['buruk']))\n",
        "  \n",
        "  inference_set['sedang'].append(min(food_set['biasa'],service_set['sangat bagus']))\n",
        "  inference_set['sedang'].append(min(food_set['biasa'],service_set['bagus']))\n",
        "  inference_set['tidak direkomendasikan'].append(min(food_set['biasa'],service_set['cukup']))\n",
        "  inference_set['tidak direkomendasikan'].append(min(food_set['biasa'],service_set['buruk']))\n",
        "\n",
        "  inference_set['tidak direkomendasikan'].append(min(food_set['tidak enak'],service_set['sangat bagus']))\n",
        "  inference_set['tidak direkomendasikan'].append(min(food_set['tidak enak'],service_set['bagus']))\n",
        "  inference_set['tidak direkomendasikan'].append(min(food_set['tidak enak'],service_set['cukup']))\n",
        "  inference_set['tidak direkomendasikan'].append(min(food_set['tidak enak'],service_set['buruk']))\n",
        "\n",
        "  inference_set['direkomendasikan'] = max(inference_set['direkomendasikan'])\n",
        "  inference_set['sedang'] = max(inference_set['sedang'])\n",
        "  inference_set['tidak direkomendasikan'] = max(inference_set['tidak direkomendasikan'])\n",
        "\n",
        "  return inference_set"
      ],
      "execution_count": null,
      "outputs": []
    },
    {
      "cell_type": "markdown",
      "metadata": {
        "id": "Py2yiECiJs0s"
      },
      "source": [
        "![bbb.PNG](data:image/png;base64,iVBORw0KGgoAAAANSUhEUgAAAccAAAGcCAYAAACstWuGAAAAAXNSR0IArs4c6QAAAARnQU1BAACxjwv8YQUAAAAJcEhZcwAAEnQAABJ0Ad5mH3gAAGv0SURBVHhe7b2/i+NI2/7b/4bjSSfbbCJHTiaZZJIOHHSywWQTGDp4YIIHJjAYFjYaEDQbHVgEJzkwGJy8DBwMnTVfjJOHYTB+eVlemqY5DM1g7lO/bqmqVFLZsrotS9cHil1bllSq+6r7kko1XRcEAAAAAAeYIwAAAOABcwQAAAA8YI4AAACAB8wRAAAA8HDM8eLiAgUFBQUFpVclBMwRBQUFBaXXJUTQHAGIAZ10F+QB0AdiOoc5glpAJ90FeQD0gZjOYY6gFtBJd0EeAH0gpnOYI6gFdNJdkAdAH4jpHOYIagGddBfkAdAHYjqHOYJaQCfdBXkA9IGYzmGOoBbQSXdBHgB9IKZzmCOoBXTSXZAHQB+I6RzmSDt6WFzTQFz3YLKgB/MtqOasdPKwoMlAaHtwTYuHnfkSlNHPPHBqkIdempjOz8scd98pvXpt6vmartLvQlI2O3q8ndHQXMd+IoMo6/CSOtmtExqZmGZlOKFksaZH85tKYI4HwW0M6pDnk4uLtzS9vTffC4wOdZ7h3w1olKzEp0Pz0D+0mPwmzvGekvVP8x04hJjOz8scOcmZel6MElrbuW63omQ0KN8eBOZYh5fUSdAcVfGSTxkwx4Pg9gV1+Enr5H3WhoOrlDYsOZhjq4jp/DzNcfCOxpfyCdJNjpxEB8MhvZHXAnN8Nl5SJ5k5ZvG8p9vpW1WHvWIGczyI1ueBVsPmOKTxeCj+a+Uoxxx9kIdempjOz9QcJ/T33xNPSCzKt/Q5+bebTHk/c32yDMYzmq/lnr4on2iTfsg/77Xvb/Qx+b/pZjLSvxmMabbciq0SvsOzjiG2T+dmSJA7zMeE5jcTMyT8msazb7RtcR6X1/FSFMxxt6HFtWxrvusWX21vKZ2OVdxk3fIYCTLdGHOsiilvs2+seERC7v9jXqEHQTSe7dcD1wvUgfPQe/oy/4uuZCz56ZFjq/KMn3fKP+daETqYfqX1ozwY6+g3miz+UWcGhxHT+Zmao0hSm/+XpkOTsGTCe1zqzyKprVZeMuX9zPVlRW23RTmnzeqGxlLA4xtaSRHuuW9he/aUEkiGqpjhkLLjt1z0so4vRemw6uADpZsn8QP7XbS93TND/7P/exVTjld+x5+NSJTcLOX7ih9H49l+PfA5QR3YHGW8fmQ37EpLJrb1zVEWviGEOR5LTOfna44P/58lwv8xQtLC+VUYhvNwjvMrF+X4I32UBjv8RIutSLohSvbN9snee5aJ1hN1lgxHdL3YCNHn7yx0J2knL6mTojkOaDhJaGGe1jLzyt7v8LCr18Zsjj5eTHlSl27/fEQi+H7TP/bB8WyfHridQR1sc8zjqbR5b/7fM7/wZx9/O8zxWGI6P2Nz3Fl39H/R30oo+u47S6aZOT7QepHQRBqfuUZVPIMbXI7pUh5/OKNbNXRxwL6ZoH3R7uhxvaCEh1yzUpa4Y52kHchreCmK8bQpu8OWpayNq2IqttvDqPf/R///XloSP4jGs/164DqBOnjmmL2mETdX8/9LxZZ14OuiEOfHNS0SHlrPi94OczyWmM7P2hz92aksKjeZsuis91ObVL0L0MexDe7/of+jhCyeTKZLeswEu8++RtBlTwKcXLMhwPYkwzq8pE72NUdnZqCN08Ycs7KYym/yBPdx+i9xbv5tTA/im1g8z0APrc8DrcY3R4F55cM33zqOflz9z5xHeDaqNxcC5ng0MZ2ftzlaQ062SMLmqK/NKeo4nsFlyUoOo/3vYfuqs5eYo79/i5JhHeQ1vBTV5ijg981Z25rCbeq0cR6z0t9LnLhxgoppyT9XIJ5noAeuE6hDwBwtY5PtquPox9X/zHmE9ZEXd7t9HnAI3J5lnJc52sNdJokV7/rFd34y3W1pOeOZjPJ91R80HQsDVPsUDS47phxefdgctG9xWPWJtss/1SQf1b7DCX1RsyphjvsSNUfBbrvMZwtz4Tb127hSD3wCKznZ543tG41n+/XA7QfqwObIN1QGa9KYjmPMHKXUvtFMakvFY0STL5/1ZEG1HeZ4LDGdn5c5gtbQfZ1wksuHUPsC8gDoAzGdwxxBLTqvk+x9tvcE0AOQB0AfiOkc5ghq0XWd8FBu6SSfDoM8APpATOcwR1AL6KS7IA+APhDTOcwR1AI66S7IA6APxHQOcwS1gE66C/IA6AMxncMcQS2gk+6CPAD6QEznMEdQC+ikuyAPgD4Q03nQHFFQUFBQUPpSQgTNEYAY0El3QR4AfSCmc5gjqAV00l2QB0AfiOkc5ghqAZ10F+QB0AdiOoc5glpAJ90FeQD0gZjOYY6gFtBJd0EeAH0gpnOYI6gFdNJdkAdAH4jpHOZ4Bvy6ndKriyFNbx/NN6cHOnmk2+mQLl5N6faX+aojtD8P/KJt+nujbd/GPnYYzbdJlzUuiekc5ngGwBzbCMzxdHhGYBaIPmYxaJijhBdc5gWUYY4Z7e8UJ+LXLU1fXdCr6a2Q4MsDczwFscQAczwdMMciMMdDiekc5rgPMMcC3dcJzLG9ND+ECHMMAXPMaEeneKB1ek1DU5eL7C5G8Lim+XQs7mzMtuE1pWt9r6jFPaLJl880FneR/naiJ9re/kWToVzd3WxX5XdKtyLyZcfepjR2fl9ikrst3d5M8noPxjSdr4W8BMpcBzSc/EHT8WtzHFHXdKW3S6LXxh33gVbJlfjdW/H5Xm0/BbKOzdGymNMPSsev3H0KCcIkDhnnLxx3GeO/6Hb7ZH4jrms+y+vmxLy6bsVk7SW/xxWlk1G+3+CaFg/NrMrMx2wPXjsOP9JUXju3hXfzmuli+tHERbfpbrukG6vNBuMZzffsY7vtLaW2Vuz+zVq4nNLfM/7NaxrP/ovWq695n6/Upvj99CutH2UMzfGGE/qSnVNqKzXbJZE2EU+Bj2vr3M7+clvqaI+fut128Mzx8Y4SebzhjG7VcSr0vU/OOzF87WW0zhzVCuyDD5RuOMEw/9BickmTmyVtlX5MoEYJrcVnHVRRfxbg45KmMvhmux56EcGaLkVwnmiTfhCie0/J+mf02DrQVU+OP2mdvBcd5oqSlZSYEP7ik+iYpnOZ/XNx3AvRvRWf9zt/LtiN7rSiY86WWyHx09GkTloZc7FH9V2z2W4lnd0mpSuRKHSikUNU/6JRZpaccM35K+tmx5xTiW2OWm+Dq5Q2qq7N0oY8kCMS+e1M9CVhHsmdaqvt8k+dkCvNUeriEy34RmW3omQ0EIZ4QyuZ2HcbWlwLMzGJvrKPGV0Nxn/S0onla7pKv8sa5lq4ngs9cTxFHfg4u++UXuX6UprPrkl83s7pevjK6MHX1i/TBgMaJStxvj3aROprNKGbW3kN4verG7Hd7K/a4jdTdxdXd1YfuNf9I2+DiL6jOe/0xHTeTnPc6w7DTV7FZGIMq2y7eiJ8ReP0h/7s4B6bA11qjqHt9neB7fo67frahK7tNV2O34lOywZ8WprUSStjXvjsE9rON0nhpzi7PrG6Fa+taI7uk0hztCEP5Jh2dtrUe4r2+pduO2v0QVBsT/c7/f/hPhY6HpvtxTilbUgLBa2ZOqunWGkUvnbsYwSOZ86nr3GPNvGx20gdSxix8ySqcduJz/OOxpfSGM2NRQnOvgfnvJcnpvPWmaMebkjNo7g91CCHAhaU2ENJshgxuEGVeGJRd+r5nZZ7p1597FCgHQJDr1zUPqH91T5c332uTYh5+JsQaugJ6+WR9WuOFsbcSVbys09ou50AxZePa1ok1lC7Kqa+lXXb49rkMH461U8LzhDf8XBd24Fp5+yJXuK1RdAcA23nxIGL/l15H/NimmGG3muZ43+Kw/Zc1DFC2tLn09e4R5vIIc9FUhi25zayh4nLh5fNeQZvaPhGPDn7IxVV+o7mvNPDdS6jheaYo4caRFDkMBUPQ2V3O66AYsmEh7z4Gp2EEjl2MNA2dbbbQtn32hbf9NBfNuZ/Op5LJ62JeeGzT2i7+U7d0f8PLSYi0VpPd3Z9K+vm/dZ84yU/hofwvSebI+A6tQO7TVnzXltEzTH8nU22vdDHeAanty8P06oh9IAWKs0x9ORoE9JWwBxL24TrbI3GlOUoHl42x3LbievxmRZ3elhWD/tK5GuJcn0HzwdzbBAe67cTpQqOvOs3L5uNgIrit8Vi/t8Rk0Xk2G5HCGHG08uGufY1xz2uLTOPZ3rftC/PppO2xDwyRJoljuxJV6Qs815HH5OTh0my2eQfWd/76rpJnPoF3illiLqr909dNUdO9PlT9n7vHG1dCJSuwkOJkso+lr1z5GFFf8LOoeb4ZGJW9iohZo6xNuHtXL984kzBHDl3VZqjPCbfhPF71ip9i31hjk3DAtL10C+k+YWvJQC5zZudVZ0oxUeVbPi4fAx+YV197PzuXG7nl+IeRw0xHHJtIhk6Sfg0yHo2Q1tjLlraJEm13RnCkpjEUTGjcLf9RjNpuGqbSIRq9qSpb2XdJG79BuPP9CWrnz+bVhybJxY1AB+3PYjkbs1mdttCbN7HHGW/2XuI3u9j1s0T7+fE6lBzlD+qGvaMmaMk0ia7LS2zmbNSl/9W51L7q7rl57SvxW0Hvx7uTUGlvmGO5wJPYLBmr3l3TOAw2q+TNse83Xrsbh4AICem856YIw8BWMmI/51YC97fnSPt10mbY95uPXY3DwCQE9N5T8xRjjK4/wBYDzUktHiGqfB94Bx00uaYt7luXCcAukxM570xR9As0El3QR4AfSCmc5gjqAV00l2QB0AfiOkc5ghqAZ10F+QB0AdiOg+aIwoKCgoKSl9KCJgjCgoKCkqvS4igOQIQAzrpLsgDoA/EdA5zBLWATroL8gDoAzGdwxxBLaCT7oI8APpATOcwR1AL6KS7IA+APhDTOcwR1AI66S7IA6APxHQOcwS1gE66C/IA6AMxncMcQS2gk+6CPAD6QEznMMczILw+3Wk5G52E1pUDlbQ/D3jrdjZAG/vYYTTfJsF1KjtETOcwxzMA5ngEMMeDaX8eCC9qPZgsqO6aJjBHyU405TUNLn6jyeIf8RnmmNH+TnEiTpxgYY5HAHM8mPbnAZhjEZjjocR0DnPcB5hjgbPRCczxYNqfB5ofQoQ5hoA5ZrSjUzzQOr2moanLRXYXI3hc03w6Fnc2ZtvwmlKzOKwW94gmXz7TWNxF+tuJnmh7+xdNhgNzXC6/U7oVkS879jalsfP7kkS729LtzSSv92BM0/layEugErRczPYPmo5fm+OIuqYrvV0SvTbuuA+0Sq7E796Kz/dq+ymQdTwLjDkOxp/pS7a4sGj7myVt1YL7O9H0X624yDiltObV+P24chmntA0Zr9ILx0oeO3U0d8zTzUvBdW0PIifMZ1a//khTGUtO2l4cslww/Wjipvu4v8D0YDyj+Z59bLe9pdTun3b/ZhO5nNLfM/7NaxrP/ovWK0tblflI/H761ejOHG84oS/ZOT1dxtqkUtflunTbwTPHxztK5PGGM7pVx/HqYOe0fXLeieFrL6N15rhbJzQafKB082S+Yf6hxeQyT2ocqFFCa/FZB1XUnwX4uKSpDL7ZrodeRLCmSxGcJ9qkH4To3lOy/hk9tg501dPHT1on70WHuaJkJSUmhL/4JDqm6Vxm/1wc90J0b8Xn/c6fC3ajO63omLPlVkj8dJxaJ3tTaHuOvbnpkroYTejmVranSBqrG9HZBzRKVuqzHmYycdx9p/QqogvbHHcrSka/0VX6/aSxOpQ25IEcEZPbmehLwjySOxW/7fJPnZArzVHmgk+02Jo8omIxEIZ4QyuZ2HcbWlwLMzGJvrKPmVwyGP9JS3U8Ns/XJrbGRKQBXc9FH2aNiTrwcTztqDyXXZP4vJ3T9fCVyU/W8ZSh/TJtkOsy2iZVuq7QZak53uuclLeB7Bv/otHkL7p12sTktGjOOz0xnbfTHPe6w3DvatygSoxhlW1XSewVjdMf+rODd8cUSoI2oe32d4Ht+jrt+tqEru01XY7fiU7LBnxa2pM8I4Riw4ky9BTn/N7TgfhGDV3xaEPo2AVzFAnPueNvP23IAzkmBoNrWjxwG3pDiF4cdH+xRpwExfzgflfVx0LHYw2pEYSCTgSF/GJrRxqF93vnGIHjmfM5uqxqEx+7jSp06bYTn+cdjS+lMZobixKcfQN9ozrnvTwxnbfOHPVwQ2oexe2hBnH3s15QYg2LqGLE4AZV4olFPTnmd1ruk2P1sUOBdlAdwdrPKmqfWBLd69qEmIe/CaGGnqpfHlm/syAYux+Ujl+ZxPZA60VSGG7XvzdPjpwsD31yFNjDcfYwXpvhNmgHJkFzmyv2McdALjDX5Rb9u/I+ZptariBXQwEzqzTH/+h9Q/VRxwgcz5xPX+MebVKp63Jdum3H5viGhm/EzeRVShvbGx/XtEj8Vw5m3z36xqnhOpfRQnPM0UMN5g6fh0Wzux1XQDFz3G1SusrGxkWx3xlEjh0MtE2d7bZQ9r22xTdvzP90tEknlYTa3nw3mMzphxo2tUYqnN9bw2OmOAYXi6sND+M5d/vthK+1HXCCPvTJ0Y1B6Dub8j7GQ+vevs7og5cvJJXmGHpytAkcL2SOpW3CdS7TtYWnS7eduB6faXGnh2X1sK9EvgoSNxJlcyMO6RsnIqbzVptjNtZvm6MKjnzSMi+bjYCK4rfFYv6/LDFFjl05DKcw4+nOC3eLmFAOuLbshsG/i3thWqWTKkzb5zdD9mSL/zVJhCde5BMMdKx0QiqPOycInUh32280k3ELJgCjEZjjgXCiP/SdoxcDlUvKh7gr+1j2zpGHFf0JO4ea45N5Z1j2+ihmjrE24e1lurZxdem2nV0PcQ41j4Lfs7ral0+RekKh2Rfm2DQsIF0P/UKaX/haApDbvNlZ1eYoPioD4uPyMfiFdfWx8wk2cju/FPc4aojhkGsT5mlerud3cS+PrOdZoNpe6qhk1txuS8tshqH83b/VUJSbhExcst+wJuXubIhimzTgL1IDJlYqxta+md7aDde3PYjkbs1gz2Yec//cxxxlv9n7tYzfx6wbVt7PieWh5ih/VDXsGTNHSaRNqnRdoctyc9TntG8KHO3LPqVmB5t9YY7ngpmcY89eO6M7+TbSTZ148MQFNQPRfGePZpivukZ38wAAOTGd98QceQjAMsfHFaXyTqsF7+/OkV4kTx7uzsxRPkHIfx8mDPOET+3PTXfzAAA5MZ33xBzlKIP7D4D1UENCizOYPdhGuqoTl6fAH44Y0SRZBN9bdQW+VgC6TEznvTFH0CzQSXdBHgB9IKZzmCOoBXTSXZAHQB+I6RzmCGoBnXQX5AHQB2I6hzmCWkAn3QV5APSBmM6D5oiCgoKCgtKXEgLmiIKCgoLS6xIiaI4AxIBOugvyAOgDMZ3DHEEtoJPugjwA+kBM5zBHUAvopLsgD4A+ENM5zBHUAjrpLsgDoA/EdA5zPAPCqwycls7rJLSqQE9AHngpvJWDwIsS0znM8QyAOZ4AmKP5BJ4PmOMpiekc5rgPJ06UMMcTAHM0n8DzAXM8JTGdwxz3AeZYoPM6gTmaT+D5gDmekpjOW2iO7grXFxe/0WTxj970uKb5lFe3FmV4TalZckobyIgmXz5bK+rn28PLD8liVuYuO7a/arYowYS529LtjVwF3vxOrgo/X+s1/1SilUtklaxGL4leG5ujuxr3qZB1PAucFdHliukzmst2DZmfvVK5s91fGT6+UruO2SVNU2u1d6GJ2ZJXj28vWp8wx1J4LVjTTvaC6f7SeJneFCK3zWdWfvpIU3v1frVe6FcrR8ickZrl0YzmhhP6kuUJe7vc3ctBXMYpbfUvgAW3TxmtM8fdOqHR4AOlG16xn5ELFl/S5GapF559vKNEimiU0Fp81slI1J9NxazYztuzhWtVcnuiTfpBCOw9Jeuf0WMHE6nDT1on70UnuaJkJTuCMOLFJyFSY2Bm/9wQ74XQ34rP+50/N8eNNsYWJNlT62Q/TDtncdE3Xm9lHPc2xyXdK2N8TePZN7Po8b7maOlxt6HFtUiEViJtK23IA+1F9/XBVUobP4y7FSWjgTDEG1pJw+KYqwXVf9Hj7UzkBKGj5E7loO3yT22UrCOZo0YTurmVfTu/IRslK/lJay4zRD4eb9+J3a/zm+bdd0qvrBwGCsR03k5z9J+qgrgJyn26khjDKtuuEuErGqc/9GcHL/nFzDG03f4usF1fp11fm9C1vabL8TthjJzoT8tZJM+quIW2BcxxcDmmS2mMKqEx+5qjG18dc2skpKW0IQ+0F5NXnFEpTSjm+Xf/rTXj3BxFhlUdjQY0Z8w4vN0cm0fGQIGYzltnjnr4MzVDCyIpTb+aYQM55LCgxFnNXxTHQGxhesJTT475XZv75Fh9bFekAQJDr1zUPrFEvNe1vaLh8DfRuUJP1S+PrF/rqboB2tcch0N6I3R4lX4XUWLqmWNlfVoE6w+UIIcv06l+6sten7AZWf03K5Y5Ok9yvjk+0HphDcObojUV05x5cuSbZzw5RuH2LaOF5piz287pWghlMFnQAw+L+mPwjoGUm+Nuk9IVj/XLYr8TjBw7mEht6my3E/G+17b4podb1TDNaRXfJp2Uotq1JC57muOr6ZzuCu9465mj/g5Pjt2BX5/omAZviDKMZkqfHHlY1Bo1czQa0xzf8Oc5zn3fCXxiOm+1OfJ7Q8cc1TtD+aRlXlz7BhI0R/P/Ze97IsfO3iXIeug9PMy7rcBQi2Jfc9zj2rIbhtA7jxekVTopRb7LlU/bgXeOvM3caOy232imRitMTOyYZe8L+andf7+TT/pxzVH0p+wduHmP3IIbmxitywOtRfRV9d7P3PCofPXKnSSTwZope+foacqavLOfOer/L89RwCem85aZozExUw/98vkvut3KhGSJSW7zZnpVm6P4aJ4i8mPLY/DL7+pj53eIcju/APd4XNMi8WeKBRKt+bljjgddm+iQzszJ0yDreRZ4s4Dtu+ncEMU2OZLwRcavJGa+uTmzYOXw/x9qOMw1R/H9509ZXM/lTl61hygghDYhbiM1yY4n0sm+WfV6xtyccY4YjD/TFzvPOJqSue/flqZi5sjmap3XyZ/Ah9upjJaZ43PBL9E/0SITCs9kbP/swTbSTZ00R/Fm7Xzobh7oMGp0Szy1Xs+NUQvskTfzFciJ6bwn5shDaJY58r9VOoNhrjaC5FkNzBG8KPxqJjNH+RSbiidPYZgnHGFqMzGd98Qc5YiF+49z9ZBDQgu8sK5FV3XSFDBH8LI8Bf7IyYgmySLw/hNIYjrvjTmCZoFOugvyAOgDMZ0HzREFBQUFBaUvJUTQHAGIAZ10F+QB0AdiOoc5glpAJ90FeQD0gZjOYY6gFtBJd0EeAH0gpnOYI6gFdNJdkAdAH4jpHOYIagGddBfkAdAHYjqHOYJaQCfdBXkA9IGYzmGOoBbQSXdBHgB9IKZzmOMZ0Ma/tnI2Ogn90feX4FTnbYDT5gFvwYAIR/UN54//N0Hoj4OfGY23STvzlySmc5jjGQBzPAKY48E8ax4wq+OU/zHsU5kjL292zEIEMEeFF2OYY5c5caKDOR4BzPFgmssDAbOAObYbmGMGzHEfYI4FzkYnMMeDaS4P1DELDKuelMbbpJ35SxLTeQvN0V0Q9IJX2ZZ4C9faK+/rAIxo8uWztWiwvTJ/6K/Wy/I7pVuh5LJjK7HYvy9JeLst3d5Yix3LxXPna9FdBCpRylVA/tAr/KvfiLqmK71dEr02FtcDrZIr8TteMfw0yDqeBcaksoVlue15gdqQiTkJwiQ8XoBa7j9OaRvbz9nejgWq90W30bHx9RcFFkWaxk+/3fIV79VvCguNy6WXvlr9RvajfKX9/fuGfxyhgenHfHFr39iyPqsXHL64eEXj9Ed1P/ePEVgg+zad5teqFsn+6l3LJU3/zttjMP6Tlus7Kze4ecNfbchZUDu7hrK8E2sTQUVeypb942381O31jeoYVcWX+96EvmR1cON/DFzvMlpnjrt1QqPBB0o3/urVctjjMk9qLLxRQmsVDxkAUX8Onlnok7dn652p5PREm/SDaOz3lKx/Ro/tB7uIWUx5cEXJSgpHGPHikxCZEYDZPxemWWh5z/Pn4tpoYYkOOVtuhaxOx6l1sjeFtufYm5uuUGxD5ig7pb2QbGy/bPuS7pUxikQ4+5bv32KaywOeWUicdhOJ8XYm+olom+ROxWa7/FMbA+8j++1oQje3Uu/i9+YmY5SslP737hu88O/4hlYise6232imErIXZ8cctW6uFxtzvEg/t49xr/uwMje1hiwvrs7142sRhnaV0kacIM9het3Z3SalK2WSrB0vb6kFjvNrEjvQ4lqYFZuxdQ3BvBNtk6q8pNuC6+7g9Y3KGFXG1+p7yhB/Gb3k8T+GmM7baY5ZMKtwxZwHgPcyQi7brhKZuRssEO4opeYY2m5/F9iur9Our03o2l7T5fidEBZ3zNNyap3sTSg2nFTkO5HQ9pA5+u+iYvuZ7YPLMV1KY1TJ/zxoLg94/UjitFuobSPDql6779s39O+sUShJKM5en3fejYZiHryedzS+lMZoTMv6nfuu1eQoM3pVzGHm6VuOVJhv7LxV/D1fp6tBu7523om3iY/dRqbuzuicwTuvPs+e+SvUnrYWTN91YlCTmM5bZ456+DM1j9n2sIO4j1gvKLEf42UxDVcUitfJ1JNjfofqPjlWH9sPdgElKGs/q6h9Qvs7Itzn2l7RcCgnDISeql8eWb+zIBg7K+lEYxPooJLYfmb7YDikN0LHV+n3o+90XwrW3/EE2s5pN7OdR2gUvjk+0HqRFF6HcLvv2zf077i/G6riXBrfvA7F+phjDN7Q8I24+bKfqtS+/s24udZa5vgfs2+oPq4GyzQab5NIXrSHie3hZe+81TGqim+o7+k2ca6pJnyuMlpojjm77Zyu5WO/vNviYVF/PNo0XFFYbifLhyhMsYMZOXZQZDZ1ttsi3PfaFt/0sAYPm5yQNumkklDbm+8OenJ0Oqggtl+2fU53pe/B2klzeSDQdk67me2lT4470TWuRdtZI0leu+/bN/TvDn9yDOnG+c6Bj/GZFnfeO2bVx/19eZhWX38xhx3+5OgQqq91zdE2ieXFDB5eDr+qKI9RLL6h88EcNTwmbpujEpu8ozEvcU3DFYVidzLz//7QGBM5tjMMp/fwMGP5oSEGSUSksfPb15bdMITG+l+QVumkCtP2+c2QPyHATOE3HTb6Liojsp8dc34X1JKn/hjN5QE3+SucvsDJseydI2/nWOWTd7gv7d03jDkd+s7RTcKRfu4cgw2DRw34nSMPK4p+7k3SKuawanPU+VE8kWXm5bFX3qlok1hezBDb1LvAiDkWYhSLL8zRgocZdD30i9i/6Fa90LY6jtzmzWqrNkfx0QghP7Y8Br8Irj52fmckt5e8DH5c0yKxZrGpYuoTE+lB11bsVKdA1vMsUG0vdVQ+UzhPCmKbNNEvMo7c3mXmGNnPj7k/c7HF6DZqJr6cDNUx5fDpk98XREK0Zqdns4q5vXdbWs7smYp69ijvv3/fkMk9zYfvYnEO9VlJVT8vaMW7EfNnfkod8mQXwcHmqK7pwNdBTt6JtUlVXjJ1y85rXYt33soYVcYX5vgC8MtjPQtMw3dyJU+ToJJu6gRIupsHAMiJ6bwn5shDYJY58r/ROYM7+TaC5NldupsHAMiJ6bwn5ige5r1/LKsf4RNaBN8dgBhd1QmAOYJ+ENN5b8wRNAt00l2QB0AfiOkc5ghqAZ10F+QB0AdiOoc5glpAJ90FeQD0gZjOg+aIgoKCgoLSlxIC5oiCgoKC0usSImiOAMSATroL8gDoAzGdwxxBLaCT7oI8APpATOcwR1AL6KS7IA+APhDTOcwR1AI66S7IA6APxHQOcwS1gE66C/IA6AMxncMcm6Lsr/h3FOikfLWOc6f9ecBbcacBiitinBvNt0mXNS6J6Rzm2BQwx54Bczwd4eXoytdbjQNzlPD6irwAMswxo/2dosXAHDtGLDHAHE8HzLEIzPFQYjqHOTYFzLFjwBzbS/NDiDDHEDDHjPZ3imN5ou3tX/nK1xevaTz9Smu1nqMRwnBCX7LVuuWyVqnZLnmg9XyWr4xtryjvmGPViuTdoFmduKvBX2R3rgJ/9fThNaVmmTGd0EQMvny2VivPtxfjzeV3Sreit5ce21/lXJRCgjB6yVZPl7+TevmLbrMFtSv0EqlbMVl7yY/XI+X9Gly0m4/ZHrx2dFakF5u9G9NMF9OPJi66Tf1l6wbjGc0dLXF7eyv4C3bbW0ptrci4z9cmlkYLl1P6O1vVXuSW2X/RevWVpuPXep9KbR6Zi/w2Uav8W+d29pfbUkd7/NTttoNnjo93lMjjZWvgxvKhPOcfVh1s/Z8evvYyemWOu3VCIynC5E4FaLed0/XwlTEwI4RMRL/o8XYmOteARslKyEkOOfyLRlny4w70npL1T6uDLuleGaPsHN9o20y+ah1N6kTFZfCB0g2bCiMXqb6kyc1StyN3zlFCa/FZd2ShWU46j0uayg5vtuvhNhFPFd8n2qQf8nhFjl1IDAV8vQiFbFK6EolCJ5qIXirr5icp9Y1ljj9pnbynwVVKG1XXZmlXHhCJXPVD7rfCVJZ/6oRcaY5SF9bi5rsVJaOBMMQbWsnEvtvQ4lqYiUn0eXtvdJyE+c2WW3F2gdHVYPwnLZ1Yvqar9LusYa6F67nQE8dT1IGPs/tO6VWur2NzUbRNpL5GE7q5ldcgfm9u1tX+qi1+M3V3KTXHe90/8jbYLx/mhngvjvVWfM41fmpiOu+ROYaSnf1dYLvpUGVDpY6QjBgGl2O6lMZoRN9VmtSJThT73FW6MSoaiDaN0u3blMYXr2ic/tCfHfz4h/RiE9puzl/yFGfXJ1a34rUVzdF9EmmOduUB085Om3pP0UFztEYfBMX2dL/T//+aLsfvhDFeUbLK2zV0PM4NF+OUtiEtFLRm6qyeYqVR+NqxjxE4npOL9mgTH7uN1LGEETtPohq3nfg872h8KY3R3FiU4OzrxUSi+7kbg1MS03mPzDEwVMalTJBmnyzAj2taJDyExsUVw2A4pDfZHWV3kdfeHHKIKTXDL+LGIhteksM/C0rs4UNZTIzcjizxEoR6Osvvrt2ns+pjh83PJrTdToDiyyq9VNZtj2vbbek2neqnBWeI73i4ru3AtHP2RC/x2iJojoG2c+LARf9O7yMMY/ibaE97FMOLaYbJJ7XM8T9H5qI92kQ8ya0XSWHYntvIHiYuH1425xm8oeEb8eTsj1TskQ9tc9RtYsfltHCdy+iROYYEZxMTpByGEx3Hult3hJSJYU53anghf1/RRZ5LJ3p4SXREOTTJQ4/ZHa4bo5iB8DAn69oxkcix6+nFfKfu6P+nUi+VdfN+a77xkh8jbiwWn0SC8p5sjoDr1A7sNuXM7LVF1BzD39lk2xffvPdqPIPT29c8yekh9IAWDn5ytAlpK2COpW3CdfbfAXpmJeHhZXMst524Hp9pcefPodg3H8IczwAepy8bvosJksVgOk02mSMghkxwofdo3eDZdMLvd2xzVB1SPumZCQYmRsWEZycI8/9OArGIHDs2RJrpJXvSFSnLmYRVpZf76rpJnPoF3illsK67ao6c6POn7P3eOXpJWOkqPJQosffJbtD4SSl758jDiv6EnUDuqDTHpyNzUaxNeDvXL58445iVwrwLrDRHeUy+CeNRsQPyoT4RzLHdVA01xAQpuun2G83U0J/cTwhbzYYrEUNhZle3aE4nnDQ4HsIQspf8VqeX27wZedXmKD4qg+Hj8jF4kkL1sSWcJNV2ZwhLYvRSMaOwUi+VdZO49RuMP9OXrH5al/m+4tg8sagB+LjtQfRbazaz2xZi8z7mKFp1/yF68VvnRse6eeL9nFgdao7yR8flomib7La0zGbOSl3+W51L7a/qlp/TvpZyc9TntG8KDsqHEpgj6APt1wlPWrFmLHp3yaejzXVDHgD9IKZzmCOoRft1wsM+lgHxvw08+dN8m+uGPAD6QUznMEdQi3PQif+PvvXwUkKLZ/jnD4fS5rpxnQDoMjGdwxxBLaCT7oI8APpATOcwR1AL6KS7IA+APhDTedAcUVBQUFBQ+lJCwBxRUFBQUHpdQgTNEYAY0El3QR4AfSCmc5gjqAV00l2QB0AfiOkc5ghqAZ10F+QB0AdiOoc5glpAJ90FeQD0gZjOYY5NEfpbgh3mbHTSs7g0AfLAS+H9LWDwosR0DnNsCphjO4E5HgzywEsBczwlMZ3DHJsC5thOYI4HgzzwUsAcT0lM5zDHpoA5thOY48EgD7wUMMdTEtN5z8zxiba3f1lrqPFCtXIVhPj6fGoNNbNoqN7fWqzUScL+enDd42x0YuKSrXfHccvWP/TX6vNivtvS7c0kWzcvK+OUtiHjddask8dOnTX79Mrx7YbrCkrgFVRMO9nLjPl/UH4wntE8+2PyXv4orCFapcU98lOVVvUvgAW3Txm9MsfdOqFRtnq21JJczPaVMTAjvkxwv8xq3QMaJSshW7m69r9olC3Eywt/vqdk/dMyxyXdK2MU55l9a2wB2rZxNjoxcclvZJ5ok34QcTMr58tFh0e82Gt+U5PH3FpRffed0iuRuHjh45g57laUjH4zK6efD13PA8eh1+IcXKW08YOq4j0QhnhDK2lYuw0troX5qWXIOJ+Urd4v9q/U4j75qUKroEBM5z0yR39Va4n9XWC7EXvZkJyzajY/oVyO6VIaozHgrnI2OgkZGCex0FOc83tfE95q7nuZo7j5su/uz4Bu54Fj4YWqryn1lhdzV9HX5N/9t9aSs5h1ZFi1UosCJz9FtAoKxHTeI3P8Qen4VXaNTlGCCojP7JMlv8c1LRJ/2MIzx+GQ3oi7w3N7WjgUee1nQcjAWAtquOmB1ovEGfqURf/e3I0PrihZiUR46JOjYLe9pdQMg7lDbO2F2wCUIIcv06l+6huMaTpfC2tiM8o1lBfLHJ0nOd8cq7QYy08RrYIC3L5l9MgcQ+KyiYmPV2/P7xhDT46vpnO6U8OtZnijo5yNTkIGxjcykzn9UENRZe+OeQg2T1SOwe1hjhk8xOY8ObSTbueBJnmi7eKTuFnWQ/ShJ8cck19Knxx5WLRMi7H8FNEqKBDTeY/McWfG6C3xOexrjvL9gRC3eIqcqycC3xzFb7NE+IHSjXw/2T3ORicmLvkdPr8rljcv/+u+p5F37mbChI65jn/5JBpXE7vtN5qpyRShBHkv9PUW5tgpOKeY99ePS5rKOQzBYXQ2v7J3jt47w4IWY/kpplXgE9N5j8xRcsywhZB3lvzkfsJkpx9FxwiYo9z18Y4S+Vs2045xNjpRcZGTGP6wZgFaN0i7LS1n9uy/fyt96Dhywsq1on/Dk7I8TUgD/iKH3Y0m1FOkte+QJ1u0G64vCKFzQhZTqSVn5vOCEnsmqyxZThH5J70W+tDfZzOoeXulFmP5Ka5V4MLtVEbPzBE0RS90whNqruf5rGP1dFAymacjIA+cIT3V6jHEdA5zBLXohU7k1Hr5b1WzhCOfDOS/W+R//tNNkAfOkJ5q9RhiOoc5glr0Qyf+H42QZUSTZHFW/zTjUJAHzpF+avUYYjqHOYJaQCfdBXkA9IGYzoPmiIKCgoKC0pcSImiOAMSATroL8gDoAzGdwxxBLaCT7oI8APpATOcwR1AL6KS7IA+APhDTOcwR1AI66S7IA6APxHQOc2wK/y/kdJzO66Rn8bRBHngpIqtygGclpnOYY1PAHLsFzNF8As8HzPGUxHQOc2wKmGO3gDmaT+D5gDmekpjOYY5NAXPsFjBH8wk8HzDHUxLTec/M0f8TS69pPP1q/ryS+av3wwl9MYvT6r9qby8/ky8jo/e3VndwkumOHlc34ndi/47+XcOz0Ymz0oG1xl3I/Oy1GCvjGV/BRa/td0nT1FoFZjCm2RKrcpw9jytK7ZU3rGXIdtsl3Vjb3DUVvfwx/EhTe1UO9fdQv1qrx9j5Z4/8JBdhvvEXYxdFLeoNfLh9yuiVOe7WCY2y9dSkluZ0nf1hXiO+THC/zFptAxolKyFbuSTMv2iULQHD6wK+p2T900qmS7pXiVScZ/Yt/wv5HeM8dMJrKJrV0WVySq/prTSwvc0xFM99zVH0J14cG4sdd4SftE7e0+AqpY0fRrUyxkAY4g2tpGFxzNWydZxPytZzFPvLPx4+4mXN8hsynX/2yU/WepC775ReCZMdJbTuaA46lpjOe2SOoYRmfxfYbsTuJFALZ+Vvk0wHl2O6lInUGHBXOQudhAyQ2dMcw/Hc1xzNsQz65swsjNtiup0HjkWbY3bTYxGKef7df2vNODdHkWFVR6Ox/ORvN8e++J3SbejgIKbzHpmjv0ipVZSg4glPrv6/SPxhCy+ZDof0RtwdXqXfxb1cd5HX3nqU2b2icfrDfGGxrzkG41nPHCvr0yJY26AEOXyZTvVTn1zger4WimAzsnMDF8scnSc53xyPWYzdPDnyKAmeHKNw+5bRI3MMicsmJr5/aDH5zbljDD05vprO6U4Nt5rhjY5yFjpRa9x5BsjsaY7heNYzR/0dnhy7wxNtF5/EzbKOafCGKMNopvTJkYdFy+YxxDT3RJv0g9g/N1X3fSfwiem8R+a4M2P0lvgc9jVH+f5AiFs8Rc7Vi3E/mYrfZu+XPlC6ke8nu8d56MTELPTO0YvnbvuNZmoixD7x9N/v5JN+tFbYCEV/4pupxztK5PFZPy2m23mgSTinmBsetfL+K28SH8OaKXvn6GnKmryjNRXLT/r/ser//sR03iNzlBwzbCFzICdQuZ8w2elH0TECyVTuekbJsA5no5PsJkbH2r6bduIph8e+yCHzPePpzIIVCW/6h9IV/16bo/j+8yedAL1ztxmtb5hjGJ0TuI1UHrhZWqvvLyixZ7LKkuUUfXPGr2UG48/0xZ6t6mhKTrz5t6WpWH5ic7XOq47BEwiBD7dTGT0zR9AU0Ek11UNs7QZ54AxRk3PEU+v1PJ8hr55kB3iaLCGmc5gjqAV0Ug3MEbwo6v26eFLMzFE+xabiyZP/qRrwiekc5ghqAZ1UA3MEL4v/B05kGdEkWQTefwJJTOcwR1AL6KS7IA+APhDTedAcUVBQUFBQ+lJCwBxRUFBQUHpdQgTNEYAY0El3QR4AfSCmc5gjqAV00l2QB0AfiOkc5ghqAZ10F+QB0AdiOoc5glpAJ90FeQD0gZjOYY6gFtBJd0EeAH0gpnOYI6gFdNJdkAdAH4jpHOYIagGddBfkAdAHYjqHOTaFv4pDxzkbnZwqLmesh9Pmgcjq+B5H/Zk+e/3ORgitnHFmNN4mR8boGYnpHObYFDDHdgJzPJhnzQNmAerylSJOZY689qe9GPGhwBwVXoxhjn0H5thOYI4H01weCJgFzLHdwBwzYI5NAXNsJzDHg2kuD9QxCwyrnpTG2+TIGD0jMZ33zBz9ZV3kCu5fzZIuRtjDCX3JVo6XK2mn1pIvD7Sez7KV3dWSMOlK7ClwkuGOHlc34ndi/46upXY2OjFxyVZd57jx6u0hE3MSBOviI015/3FK29h+Z6wH3UbHxtdfMV8UaRo//Xbz+hS3c2Ywcl3CrzQdvzbHcfukm3gfaJVcib77Vny+V9tz/OMIDUw/0tCPM59XxU+eS6/Gf3HxisbpD7Va/+3NJFvN/2Iwpul8bWLqHePxjhJ5vuGMbmV95b7p1Mofdv7ha7mk6d95ewzGf9JyfUfzLCdZOUew2y7pJtO1/P2M5mvzTJ5dwx/udWf7x9pE8Li2zi3K8JpSPv7jilLr3NlTt9c3qmNUFd99cnJ9uN5l9Mocd+uERlKQyZ0Sx247p+tsMVATiKzxf9Hj7UwIZUCjZCVCuKOHxb9oNPmLbrdPYm8O8ntK1j8tQSzpXiVCcZ7Zt3xV7o5xNjoxccmTwhNt0g8ibr/RZPFPoSMrQuYodWGvsh7b74z10Fwe8MxC4rSbSIyqj3GfFDevyz+1MfA+cohuNKGb263qg3yTofukPBwn3o3uj8KsZkv5Ww9eFX98QyuRWHfbbzRTCdmLs2OOWjfXi4053k9aJ++FCVxRspIGIeq7+CTqz4neOsa9NkZlbipf3Ittb5WZ6vrxtQhDu0ppI06gr0Wcc/iJFmKf3SalK2WSrB3Wrsk5avX//JrEDrS4FmbFZmxdg9a+qQPvH20TOdR8md9IstmPElrvdFtw3R28vlEZo8r4xnLyccR03iNzDHRU57vAdiM+JwFaOHdERhCDyzFdykRoDLirnI1OvI6q4KQi34mEtofM0X8XFdvvjPXQXB4I9Cmn3UJtGxlW9dpd98HXdDl+J5Ium1YR/TtzQ8SE4szn5fjZ70ZDMQ9ezzsaX0pjNKZl/c5912rM9uJ3Sre/TB25PhLz9C1HKsw3us76Kbb4e75OV4N2ffUDgt4ebxMfu41M3e0nScY7rz5PPEaKUHsekJMPIabzHpljYJiHi2r8QCDMPlkgHte0SKwhFVVcIQ6GQ3ojhHCVfj/6zqbNyGs/CwIJwkk6oe1VSZOJ7XfGemBtH0+g7Zx2M9vVk4jZLr51zfGB1ovEW+E+b3edeF/RcCgn03ygdCOf0oro35knJmYPcyzGN69DsT7mGIM3NHwjbr7spyq1rxmazTDXWssc/2P2DdXH1WCZRuNtIp7d1gtK7KFTWbiN7GFie3jZO291jKriG+p7Xk4+Aj5XGT0yx1BD28QCYWazWXdKjpgzQczprvS9R3c4G52EEoT57qAnR183sf3OWA/N5YFA2zntZraXPjnKVxnXou2s92Reu2d9cPHNfb/noX93+JNjSDfOdw58jM+0uNPDg9k7ZjOD092Xh2n19Tv5RFFljuEnR4dQfa1rjraJqrP9jq+kL2TDy+FXFeUxisU3dD6Y4zMg7oLUeLUVCIdYINgcTWCzF9VGSHZQeey/4k723DkbnZi45He2/oQAN67Rd1EZkf3OWA/N5QE3+Suc5MfJseydI2/nWOWTdzg52gah5xB4T2wM//OCA9858nk05p1daChRYR+DDYNHDfidIw8r5u/X2EAPNUf9zlA8kZVNUAldQ8H8KtqEzVHVTz5Fmokzhb7AuTVijoUYxeILc3xBjnuEz8Uj9xMma8/s8oXoz1TrGGejExUXefdbNmPPi6s00S9y6JyTVJk5RvY7Yz3oNmomvpwM1THl8OmTn7BFn0yvRbvpc2azirm9d1tazuyZinr2KO/vGkrRcHJkck/zvh+Lc8hYJFWvVgpa8W7E/JmfUoc82UVwsDmqa6oY9gxdg22O0Taxblbkdmcmsalbdl7rWrzzVsaoMr4wR3CGQCfdBXkA9IGYzmGOoBbQSXdBHgB9IKZzmCOoBXTSXZAHQB+I6RzmCGoBnXQX5AHQB2I6hzmCWkAn3QV5APSBmM5hjqAW0El3QR4AfSCm86A5oqCgoKCg9KWEgDmioKCgoPS6hAiaIwAxoJPugjwA+kBM5zBHUAvopLsgD4A+ENM5zBHUAjrpLsgDoA/EdA5zBLWATroL8gDoAzGdwxxBLaCT7oI8APpATOc9McfylRVAPZA8u6up7uaBtuEv7AxekpjOYY4KXlfMW/gTlILkCXMExwJzPCUxncMcFTDHQ+l+8oxpBuYIjgXmeEpiOoc5glp0P3nCHMFzA3M8JTGd98scs5Wu5XXKVaf/otvtk/pFYRVuf9Xu4TWl6we9zVu9/CJ74pQra3+1VpyX50hp3fKV3+vQrE7K2lNQEQcdsxFNvny2Viu34/RE29u/8pXOs/I7pVuRjUqP7a9yLkohgcU1pa5rPsvrJuuarsSekuq6FVeF9xLp44pSewX4wTUtHprRGR8TlFDR9rvtkm6sbYPxjOZ23rD14KysL7dX5Q+jt+GEvmSa9fLLbku3N6xFq4xT2upfAAtunzL6ZY6WmHablK6ESAeThZCsb47/0GJySZObJW2VLu8okYIdJbQWn3frhEaDD5RuOAkaHhY0GU3o5nYrZC6EvroRHWFAo2QlPnWLJnVS2p6ROOiYCc2yqT0uaSrNxmxX8RDtP5wuhQKeaJN+EEnlPSXrn9FjZ5opvauPaUoO1f+LRplZPtAqucrPX1m3wM2aY44/aZ28p8FVShtV12bpbh5ogoq2360oGQ2EId7QShrWbkOLa2F+wxndPv6ix9uZMK7XNE7uVMy3yz+1UbLGKvOHrzc+Hm/nV0NvhWbuxbm/U3pl6xn4xHTeL3N0Ep0WOd/1FZORjbu/SubOU0AJv25p+uqCXk1vRWrrFk3qZO/29OJQjJmJadn2bUrji1c0Tn/ozw6+RkKasYlryseuT6xuxWsrmqP7lNwc3c0DTVDe9sWY2d/9t9aLo43IsKqTPwJ6M2Yc3m6OzaMkoEBM5z02R1c8rrDl8MaCEnvoRJZsfzkklprhD3EnOP1qhjYeaL1ICkNlMMcYZe1ZHYdqAxEf1dNZfqfuPp3FYlzHHL2E9LimReIPc5n6VtZtj2uTQ2jpVD95yKHd+Vocpxm4rqCEYNtz7DnOdrHM0XmS82JamT9CetPD/3q7eXIcXFGyEqaNJ8co3L5l9NgczXehJ0ce8vLH+539NbvtnK6FmAeTOf1QwxrWExCeHA8mb88FPUTiEDMQHuZkXTsmEo1xecw1oe3mO6Wp/6HF5DfnCcOub2XdvN+ab7xEyogbi8UnYcDNzbTmOoEYbtsXY2Zja4Pdyo4pD4uW5Y+Q3mxz5BusXFPu+07gE9N5v8wxeyoRUjPj+fqdj5eMOHGqbfIJw7wkDyVK854rN0cz5i/vAs3Ld5jjAWTtaZljSRyqDcT8f8kQZzzG1UOkcU3Jd5rSHOX7JrF/NvlH1ve+um4Sp36B91MZou7q3RPM8eXx2l5p95V1w2XD5pePFrgx9d4ZFvJHzBz1//McChAnpvN+mWPFTC830VrClb91ZpWZpGvaSh/HTLrYbWk5s4//bzVEAnOsoqI9K+MQM0fxURkMH5ePwRMeqo8t4adYtb0wPBXX1G77jWZqqFhuE08E048ikdo3YObcXLK6Sdz6Dcaf6UtWP382rTg2TyxqAD4uCFHV9vImq2qoXhieNSvbjancvSp/xMyRzdU6r9OXgA+3Uxk9MUfQNO3XCU+c+ESLLDnciwTztvqJ7UVoc92QB84SNTlHPLVez/ObJHsUxnwFcmI6hzmCWrRfJzysaRkQ//s0Huo8GW2uG/LAWcLD8Jk5yqfYVDx5CsNUQ/PAJ6ZzmCOoxTnoxP8H2XqYKaFFCyYptLluXCdwTjwF/qjEiCbJIvD+E0hiOoc5glpAJ90FeQD0gZjOg+aIgoKCgoLSlxIC5oiCgoKC0usSImiOAMSATroL8gDoAzGdwxxBLaCT7oI8APpATOcwR1AL6KS7IA+APhDTOcwR1AI66S7IA6APxHTeE3MM/eklcAxno5MO//H356K7eaBteH/uELwoMZ3DHBX8dwmb++PNXedsdAJzPJju5oG2AXM8JTGdwxwVMMdDORudwBwPprt5oG3AHE9JTOcwR1CLs9EJzPFgupsH2gbM8ZTEdN4vc5QLyn7hldnd5VwKyx9l6+/pNrEXrfWXnrnInjitdQGzc4TWdjt/zkYnxhyz5YFUXPxlhipiJld9v/FX8xdlnNI2ZLzblMaZjviPP+d/7/IcVkjguoIS+I/Em3ayV1Lx/2auu+Bwvkaj2l5YJq1KiyaHVSyRVqlV/Qtgwe1TRr/M0RITr8TOyco1R7lqwmWeQB/vKJGCNWv67dYJjQYfKN3wckMG+ZfxR7wmnxC6Wfx2lKzEp25xNjoxBqYMUa2wziummxuayph5C9DuvlN6lesg+FRqm6NaRug3ukq/n1X8u5sHmkAvNza4SmnjB1XFeyAM8YZW0rB2G1pcC/NTK638Mgsjly12LPav1KKfw/h4e2oVFIjpvF/m6AxfuCu9FxfOtXH3V+aYJdsKOjykdzY6CcWAk1joKc75va8bMwx28TulW/HFXuZYtjJ8e+luHmgCXovTHknShHJI/t1/ay0563VGhlUrtSgwOt5Lq6BATOc9NkdXPK6w5fBG1YrecnmY1Ax/iDvB6VeT/B5ovUi8ZWNgjicleINiVnNXw01VMTN344MrSlYiER765CjYbW8pNcNg7hBbe+E2ACXI4ct0qp/65Kua+VpkGM4nuYbyYpmj8yTnm2OVFkM5TOt4L62CAty+ZfTYHM13oSdHXjjUH+939tfstnO6FmIeTOb0Qw1rWE+UwcTcDc5GJ6EYmO/iMeMh2DxROQa3hzlm8BBbC1b6j9HdPNA04iZ58YmGZoh+r9Gn0idHHhYt02LMHCNaBQViOu+XOWZPeUJqZjyfV8kOmqPaJp8izUvygDnS45KmjjmaMX95F2hevjvJsyOcjU5Mgsnv8B9olVyZOP2vSUhlMdPJp3wSDa/or1fv322/0UyNJoQS5L3Q4FuYY6cQuUG99zPvr1UuKBtGZ/Mre+fovTMsaDFmjjGtAp+YzvtljhUzvdy7Pku48rfOrDJ/+EQex8x63W1pObOP/281RAJzPCHKHGUs/rBmAVp355Ux44TFsebf5LOcc0MU27LZ0EZH6inS2lfoT0+2aDdcXxBCm1AWU6klZ+Zz1esYYXjWLPdsBjVvr9RizBzjWgUu3E5l9MQcQdP0Qic8oeZ6bpKfIBsp6O4dOvLAGdJTrR5DTOcwR1CLXuiEh9ezhCOfDOS/WxRJyAzHdxHkgTOkp1o9hpjOYY6gFv3QiZyV/Jca2uK+oYbRkkXgnVJ3QB44R/qp1WOI6RzmCGoBnXQX5AHQB2I6D5ojCgoKCgpKX0oImCMKCgoKSq9LiKA5AhADOukuyAOgD8R0DnMEtYBOugvyAOgDMZ3DHEEtoJPugjwA+kBM5zBHUAvopLsgD4A+ENM5zBHUAjrpLsgDoA/EdN4Tcwz9XUJwDJ1PnqEVN3rCafOAv4xTNdUrYUQoW0GlNh3IM423yZExekZiOoc5KviP9pq/rg+idFMnFjBH86lh1J85k8uFlf29z1OZo1lh5ahVU2COCi/GMMdWA3Nsmm7qxALmaD4dQ6DfwRzbDcwxA+YIatFNnVjAHM2nY6jT7zCselIabxOYY8sxos3W25PX6a51Vgjg45rm2dqPogyvKc1W1XbXZbvInjithZGzc4QWPj1/zkYnzhp5cg09szp6yPzsxOBsF3F1FscOJUF7bT3W0yVN0yT/Y9BCf7NlX9Zz9Nc9FEW210+/3fNFfdVvnLVT5fbqPuX2W3sha7lgsI1/nBFNph/ztTf9mKr4y3PpNRUvLl7ROP2h9HR7wzlElGwRbYl3jMc7SuT5zGLYat90ml9rtvi6fS1CM3/n7TEY/0nL9Z2Vi6y1SAW77ZJurPUjndX/s2soWcs02iaCqjz4uKLUXruSn7q9vlUdo6r4mvasWIf3GLjeZfTLHK2G3W1Suip99JdDLJf5IqYs8lFCa/F5t05oNPhA6cZbRFQOJ4x4Qds8oY6SlfjULc5DJ7z6/hUlKxllfVPzVnbavc1xSfcqjiKRzb6Z5YD2NUfRnziZ7Da0uBaJ5Khhu5ehuTwQaCen3UUfUSvpl62OL34f6VN5v93opFt2A8JrG45vaCX7f7ZINfd5r66mntIwrhcbc7yftE7eW3oS9V18EvXnRG8d417nDGVu6gactcj142sROegqpY04Qa6ZT7QQ+3COUiaqtPdEm/SDMIn3lKx/Ck3JNRzza8o0xmZsXYM2RFMH3j/aJlV5ULcF193B61uVMaqMr5+3fxm9NJNTYzrvlzk6yYyFrpOVa44+7v7KHL07uCCeSLrEWeikqv1D2wLmOLgc06U0RpW8mZCeQubo6knrpv3vtZvLA4F2ctrdbHduGCLDql7cdDu/psvxO5F02bSK6N95be8MIXp15fjb70ZDmglezzsaX0pjNKZl/c5912py0MXvlG5/mTramjFP3+OUtuYbXWf9FBvSmPNdoL5ag3p7vE187DYydXdG1AzeefV54jFShNrT1oK5IXBiUJOYzntsjqYTBoUp7lnWC0rsIQNZsv3l2mmpGQqwh0bEk8nCGkYzpYlAtg15Xa3HSiQFAonDSQyczIZDeiNifJV+t+5UQ3qKm2NlfVoE6/Z4Au0USn5mREbjm2N1n9Lt/IqGQzmZJjCaY9C/M09MjGMEXl1L9ZHXoVgfc4zBGxq+EU9k9lNVMPZVOUhSZY7/MfuG6uNquHgNenu8TSJ50B4mtoeXvfNWx6gqvvF+dgx8rjJ6bI4s5MCTo5ptFRj7dvbX7LZzupZDE5M5/VAzXq0nypA4O8JZ6MTMmgu2fyRx5NvndFd4jxXvtMVEx9/hyTFvd7cPmh/opK/24Vnk5X0qa+fFN/f9nkew7R0j8Ooa0kfoOwc+xmda3OnhwWwV/qAWY6NXhz85OoTqWzDHijbZOw/y8LI51t4xisU3dD6YY8OYRs6e8kSzm7FtFq8jNBaF2ibvnswL44IoBDxun5kjJ9F8okETgWwb56ETnp4feOfI20xHLbxvsTtp9r6Q73q5U5tYW5N+3IQg+hMPO/mTM1pMc3nATf4KJ/lxO5a9c/TaOdCn7H6b3aiG3oMZczr0naPbd807u9BQosI+BhsGjzr477/z92vBHKSoNkede8QTWdkEldA1FMyvok32zoNim3oXGDHHQoxi8YU5vgCmkStmPbnCtDqp/K0zg46HQsw2dRwz69WZGSm/1zPdmghk2zgbnXiz7ezZfHkyENvksJCayWw04CeWwMzDPNbypusPJ9ZaT+L7z58yHTkzCVuM1nUz8eVkqI4ph0+f/IStb1h49udg/Jm+ZH1NHaCyT7n9tmg4OTK5p/nwnR9vPxEHzVEg9LRI5H66vrqUHENcmzMz05/5KZ+YeLKL4GBzVNdUMewZM8dom1TlQVO37LzWtVSYYyFGlfGFOYIzBDqpppjozgfkAdAHYjqHOYJaQCfVwBwBaDcxncMcQS2gk2pgjgC0m5jOYY6gFtBJd0EeAH0gpnOYI6gFdNJdkAdAH4jpPGiOKCgoKCgofSkhYI4oKCgoKL0uIYLmCEAM6KS7IA+APhDTOcwR1AI66S7IA6APxHQOcwS1gE66C/IA6AMxncMcQS2gk+6CPAD6QEznPTHH0N/oA8dwNjop+xuZz82pztsAp80D/pJV1Rz1xxacvzPaBB3IM423SXv/IEZM5zBHBf91+PYvJ9QWzkYnMMeDedY8wCtBOIv+2pzKHHkFF3v5rEOBOSq8GMMcWw3MsWnORicwx4NpLg8E+h3Msd3AHDNgjqAWZ6MTmOPBNJcH6vQ7DKuelMbbBObYcoxos/XK5HXKtcPMOoyCQgD9tdecBU7dNegusidOuT6aWRA0O0fJQqRnztnoxJhUtk6gikv52nMKJ0EY7fBadnJ/ub5ebD9nu7eGnfl5W9FtdGx8/fX+RJGm8dNvt3yBW/UbZ81Aub26T7n91ls/0cE/jtDA9GNkPcd8fcELXkNxt6XbG2s9R5lT5msTU+8YgTVAb9Npfq3Z4uv2tVzS9O+8PQbjP2m5vrNykbVqvmC3XdKNtZ6js2Zodg1/uNed7R9rE0FVHnxcUWqdO3vq9vpGdYyq4st9r3wd3mPgepfRL3O0Gna3Semq9NFfDrFc5gmURS4XaxWfd+uERtmq8BZyOGE0oZvbrQh5nhBHyUp86hZnoxPTUfOk8ESb9IPoaOFVyxUhc5TauZ5nC9NG98u2L+le6UAkwtm3fP8W01we8MxC4rSb6CNqBXnRNsmdik22uC7vE+lTeb/d6KQrzGq2lL/1UKvmD4R5lKx679fV0s31YmOO95PWyXthAryaP6/2z4neOsa9zhnK3NQN+L3Y9laZqa4fX4vIQWpVfL4Wcc7hJ1qIfThHKRNV2mHtvqdk/VMkohUlo/yaxA60uBZmxWZsXYPWvqkD7x9tk6o8qNuC6+7g9Y3KGFXG18/bv4xemsmpMZ33yxztTpoJXd/tuObo4+6vzNG5AyvBE0mXOBudhGLASUXeGIW2h8zRfxcV289sH1yO6VIao0r+50FzeSDQ75x2C7VtZFjVa3fdb1/T5fidSLpsWkX077w5BaE483k5fva70VDMg9fzjsaX0hiNaVm/c9+1mhx08Tul21+mjnYOMk/fcqTCfKPrrJ9iQznL+S5QX5279PZ4m/jYbWTq7oyoGbzz6vPEY6QItaetBdN3nRjUJKbzHpuj6YRBYYp7lvWCEnvIQJZsf3HHeJuaoQB7aOSB1ovEDMPk+zURyLYhr+ssCCQIJ+mEtlclTSa2n9k+GA7pjdDIVfr96Dvdl4J1ezyBtgslPzMio/HNsbpP6X77ioZDOZkmMJpj0L8zT0zMHuZYjG9eh2J9zDEGb2j4Rtx82U9Val8zNJtRlYMkVeb4H7NvqD6uBss0Gm+TSB60h4nt4WXvvNUxqopvqO/pNnGuqSZ8rjJ6bI4s5MCTo5ptFRj7dvbX7LZzupZDE5M5/VAzXq0nypA4O8LZ6CQUA/PdQU+Ofuxj+2Xb53RX+h6snTSXBwJt57Sb2wfND3TSV/vwLPLyPpX128U39/2eh/7d4U+OId043znwMT7T4k4PD2bvmM0MTnff2OjV4U+ODqH6WtccbZO98yAPL4dfVZTHKBbf0Plgjg1jGjl7yhPNbsa2WbyO0FgUapu8ezIvjAuiEPC4fWaOnATziQZNBLJtnI1OTGfL72z9CQFmCr/psNF3URmR/exOzu+CKp5s2kRzecBN/gon+XFyLHvnyNvL+5Tdb7Mb1dB7MGNOh75zdPuueWcXGkpU2Mdgw+BRA37nyMOK+fu1YA5SVJujzj3iiaxsgkroGgrmV9Eme+dBsU29C4yYYyFGsfjCHF8A08gVs55cYVqdVP7WmUHHQyFmmzqOmfW629JyZh9fz3RrIpBt42x0ojqqjEXZjD0ZNk4KYps0UTWjmbVQZo6R/fzE5M9cbDG6jZqJLydDdUw5fPrkJ2yREK2Z39msYm7vSJ9y+23RcHJkck/z4btYnIPmKHhc0yKR++n66lKmFe9GzJ/5KXXIk10EB5ujuqaKYc+YOUbbpCoPmrpl57WupcIcCzGqjC/MEZwh0El3QR4AfSCmc5gjqAV00l2QB0AfiOkc5ghqAZ10F+QB0AdiOoc5glpAJ90FeQD0gZjOg+aIgoKCgoLSlxIC5oiCgoKC0usSImiOAMSATroL8gDoAzGdwxxBLaCT7oI8APpATOcwR1AL6KS7IA+APhDTOcwR1AI66S7IA6APxHQOcwS1gE66C/IA6AMxnXfbHJ2/I1hN8e8anoa21CMGkmf531w9d06bB/wlq6o5qr8ckB/2owOaaLxN2pvTYjo/Y3M0qyI4y914wByfjfPRyXMBc6wFrwThLPprcypz3COfRIE5KrwYwxyflZDoYI6npJ06aZJYooM5xgm0Ecyx3cAcM87YHPcA5vhstFMnTQJzPJ46bYRh1ZPSeJvAHJ8Rf90wUZT4fCHKtcnMYpzqdyOaTD9aa5MJ/PXUrEVL3QD6C+J67LZ0e2Ot6ZYtpCuIrh/o11P+tmxdyUg9Toise3O4a/pd2KuTR2Mm2vbLZ2vNOXsh2ifa3v6Vr1eXld8p3QrRlB67THP6qBqjv2wNPPk7GUuztqciX7xVH8fWQXXdignFM43HFaX2On5HPfG48DGPo6QNfwbWc7TbyFkzUG5vqr/E8oOXT7J+rNcXvOA1FKv6vn8Mfw1PuW86tfTAi6/b13JJ07/z9hiM/6Tl+s7Sqa0hecgl3Vg6GIxnNGf9H5yL/DYRVPS/Ug1Wrufox6gqvqY9K9bhPQaudxlnYI4S3wglvhDNivylK33LYZPLfEFOFq5cgFXFkwO40cETop8ttyJ0Pry6Oa/ozSt+m2AbYeQiNCuAX7ynZP1TaGNBk9GEbm7lsYUwzMKfo2SlzrV/PU5LkzrZrRMaBVfJ3ydmoq25wxoN8HY9vCM6k1r49ok26QfRwUwcIscWXwQ0Z2O2W511t0npSiQ1PZwkVzn/F40ys+SkYOmgtG5+QlHfWOaoNRhc8b4BmssDgTZ0EqfQv1pBXphEcqfaIVtcl/dpqr9E84NXV6sfXy825niRvm8f417rSZmbir/JA1n9+FqEXkwccz1/ooXYh/WkTHT2TejU08luRckovyaxAy2uhVmxGcdy0VE5s0KDpeYYiFFlfP0+9svoJY//McR03hlz1AGwnjgklUMEof1f0+X4nQgeiz+AF3iF/V1gu0r+ZfUICmmPepyYJnWi28e9Iw4TipndriZ5lW1XeuBV1H18jYU0ZxPazskz/BRn1ydWt+K1Fc3RfUpujubyQKCNHL2b7U57RYZVa/YX/buq/ODV1ZzHeTca6Nvud3w972h8KY3RmJb1O/ddq4lj6WiBefoep7Q139g6Kf6er9N8F6ivnYvibeJjt1GFBr3z6vPsmdNC7WlrwdwQODGoSUznHTPH/M5b4QRa3IesF5TYwwCyOPu/ouFQvpQPPcUY1DGt/a2iAhYQpFuPB1ovksJwmiukPepxYmSdm0MOMaZmaMUeatonZnZH9hKrejrLn0rcp7PqY4c1ZxPabs5vDdsuEmsIThVT38q67XFt9hCduBPPh/aOh+t6PIE2CiW/7Gld4ptjM/1F/64qP3h1Le3HeR2K9THHGLyh4RvxRGY/Val9/RszVy/FmFeZ43/MvqH6mGNEclG8TSJ9pEyD3nmrY1QV31Af023iXFNN+FxldMwcK+6CeBjLH8929he/XXzTQwc8NOETEpxNpSAfRDWuRRK0npKCQtqjHifmuXSy287pWg71yDvsfWOWJRM3sebDUqbYHThy7LDmbELbzXfqSeh/9OxH687arm9l3bzfmm+ca8vhoT1P+0fAdTqeQBs5erfbizVuX6ccmm6mv+jfHf7k6PTj0HcOfIzPtLjTw4N62Fyg9Obv6440FGN++JOjQ6i+1jVH2yTaRxhPg3vHKBbf0Plgjh6h4Sqv4Yz4SsfPOdBKrPKOyLwENvvbQssSdPCdjhm3LxvSqhQkmyO/o8gnIxSEFK3HaXk2nfB7ENsc94iZxk6s5v8dzVhEjh0bIs30lz3piq5s3pfoY5p/GsCJIJvYIOt7X103iVO/wLu4DFF39R6mjeYYaEOnf3ByzJ+g3evk7Q30l1h+4Hhy+4b6cazvO8dgw3hNV+l3caX8zpGHFUXcHL2E9FxtjrqviCeyzLw8KnMR58T6OTPH06B33vIYxeILc9wLblRVRzUM4zecDF6aP57LO3E1i5DFZnU8ud2bFecKsyhch6rhspggd1tazuyZV3o2XEhI0XqcEHnNzWBMLGtH2SY8ieWQmEm8pyvT+fNjy2Pwy//qY0uKmtPfa4z+KmbS5clGbhN3x/ZMwMq6Sdz6Dcaf6UtWP5M0s33FsXnSRAPwcZug0IZPfv8QCdGaqexepzpAQ/0llh/2MUdBVd/3jyGuTU/CMsnfn/npxa2o54g5qmuqGPaM5aJom1T1kQoNVphjIUaV8YU5gjOk/TrhCQN65p+G794rnthehDbXDXkA9IOYzmGOoBbt1wkPa1oGxP8u6+TvcdtcN+QB0A9iOoc5glqcg078fyCth20SWjzDP384lDbXjesEQJeJ6RzmCGoBnXQX5AHQB2I6hzmCWkAn3QV5APSBmM5hjqAW0El3QR4AfSCm86A5oqCgoKCg9KWECJojADGgk+6CPAD6QEznMEdQC+ikuyAPgD4Q0znMEdQCOukuyAOgD8R0DnMEtYBOugvyAOgDMZ3DHEEtoJPugjwA+kBM5zBHUAvopLsgD4A+ENN5t83R+Qv01RT/Iv5paEs9YpyNTspWVwClnDYPeCurRDiqvxyQH/YjtIrEmdF4m7Q3p8V0fsbmaP54c9UqBjDHZ+NsdAJzPJhnzQO8hqBcr9N85XIqc9wjn0SBOSq8GMMcn5WQ6GCOp6SdOgkAczyY5vJAoN/CHNsNzDHjjM1xD2COz0Y7dRIA5ngwzeWBOv0Ww6onpfE2aW9Oi+n8DMzRX3FaFCU+X4hyVeuvNC1beV3ir8Q9vKbULBHkBtBbwdtnt6XbG2s1cLmC9nwtuoZAJWO5/NAfbl3Sld5eqKf8bb56/EH1OCGy7meBMcdshXmOR7YCe3U8CrHmIldnDxmvk1y8ldZFKX9iag9c1+Mo6bc//TZ7oPV8VrLavNzeVH+J5Qcvn2T9WK9Mf8Gr71f1ff8Yj3eUyPPxGp1y33SaX+vFaxpPv3rXcknTv/P2GIz/pOX6zspbdi6Rh3SXPhuMZzTnZc8OzkV+mwgqcma2Bilv46dur19Ux6gqvqY9hxP6ktXB659HwPUu4wzMURK6I/OFuKSpEPFgfEMr0XC77TeaqQbnoMhhk8s8KbJwRwmtVTw5gBsdPCH62XIrQudjVnEfXFGykiJ5ou3ikxCUCbYRRi5Cs8L7xXtK1j+FNhY0GU3o5lYeWwhjdSM6woBGyUqda/96nJZ26iRAIR5PtEk/iI72G00W/0TisRObr/OOvPtO6VWuGT52qTnuVpSMfqOr9Hvr4ldFc3kg0G+dNhPtfTsTfUeYRHKnYrNd/qmNgfdpqr9E84NXV0s314uNOV6k79vHuNf5RZmbWtDa5IGsfnwtwtCuUtqIE+hrEec0i2DvNildKZMU7TP7JvIWa9fkEqWv/JrEDrS4FmbFZhzLRUflTN0WXHcHr19UxqgyvqY9M0P8ZfSSx/8YYjrvjDnqAJiEx1QOEYT2f02X43cieCz+AKGEaH8X2L5bJzQqq0dQSHvU48S0UycBQvHipBJ6inN+7+vODPld/E7pVnwROnbBHF81dqf7UjSXBwL9NtS+znu+yLBqzf4Szw9eXc15HI2E4h28nnc0vpTGaEzL+p2rOWO2Rk+6jnaeME/fcpTCfKPrrJ9ii7/n6zTfBepr56J4m/jYbWTqbj9JMt559Xn2zGmh9rS1YPquE4OaxHTeMXM0d0SME2hxH7JeUOKsvi6Ks79IZEP5Uv4DpRt5txdAHdPa3yoqYAFBuvV4oPUicYbasn3F1r3rcWJknc+CUDycpFMVD/PkyB360CdHwW57S6kZEnKGvFoMt8HxBPptKPlxeyp8c2ymv8Tzg1fX0tjmdSjWxxxj8IaGb8TNl/1UpfY1Q7MZ7s2WrqNtTFXm+B+zb6g+5hgRfcbbpDpnCnHnw8TiadB9tbRvjKriG9CPaRPnmmrC5yqjY+ZYcRekZlAFxrOd/cVvF9/c9wQ+IcHZVArywQzTWeP+QSHtUY8T006dBAjFw3w3mMzpR2U8eBgr77TFdzplsVZHy+Ehr6NmQ74MzeWBQL912sxsL31y5GHt4/tLND/4dQ3FNvSdAx/jMy3u9PDgcLrU9Vb5x9+Xh2n19WfXkmnn8CdHh4g+o20SyZk5PLxsjrV3jGLxDZ0P5ujhikjjNZwRX+n4OQdaiVXeEZmXwGZ/W2i77Zyu5Vh8aDydx+1DwwmSSkGyOfI7inwyQkFI0XqclnbqJICJR35na08I+N9IPHRHLJ9EY6b/m85efGdjw++c+mSOgX7r9A9OjmXvHL13vsf0l1h+8PNJqB/H+r5zDDaM1+adM8efhxXz92tsoPa1aKrNUb8zrBi2r8xFnBPr58wcsU29C4yYYyFGsfjCHPeCG1XVUQ3D+A0ng2fNDJTJ8IucVcZiszqe3O7NinOFWRSuw+OaFok8tjmWKmbfmCB3W1rO7JlXejZcSEjRepwQec1ngYqHbOeSGXuV8eDOyzHm3/xFt2qShdydE4rY5mtOxd3ad8gTD9oN17cJCv32ye8fIiGm11lfymYVc79urL/E8sM+5iio6vv+McS15TdiIvn7Mz+lDrNZ0/61SCLmqK6pYtgzlouibVKVM03dsvNa11JhjoUYVcYX5gjOkF7ohCfUXM+zBJbN8DuDf5JRF+QB0AdiOoc5glr0Qic8rJSZI99pC8Ns2ZN8kyAPgD4Q0znMEdSiHzp5ou3tX/mwkyojmiSLs/qnGYeCPAD6QEznMEdQC+ikuyAPgD4Q0znMEdQCOukuyAOgD8R0DnMEtYBOugvyAOgDMZ0HzREFBQUFBaUvJQTMEQUFBQWl1yVE0BwBiAGddBfkAdAHYjqHOYJaQCfdBXkA9IGYzmGOoBbQSXdBHgB9IKZzmCOoBXTSXZAHQB+I6RzmCGoBnXQX5AHQB2I6hzmCWkAn3QV5APSBmM5hjqAW0El3QR4AfSCm826bo7N2WTXFtdROQ1vqEaPzybNsPb8ecNo88Et029+9NfzKOaq/HJAf9iO0/uCZ0XibtDenxXR+xuZoVmGvWlkd5vhsnI9OagJzNJ8ahlefL10P81TmuEc+iQJzVHgxhjk+KyHRwRxPSTt10iAwR/PpGAL9FubYbmCOGWdsjnsAc3w22qmTBoE5mk/HUKffYlj1pDTeJu3NaTGdn4E5/qB0/CqrmypKfL4Q5SrtX2k6fm1+N6LJ9CMN7aA8rmk+HdOAjzO8pnSt71/dAD7QKrkSv3srPt+r7Q67Ld3eTMSxzXEGY5rO16JrCFRSHdBw8odbl3SltxfqKX+bZovnHlSPEyLrfhaIWC1necwH4xnNZcxD5mcnBme7iNnqhsYDEavpUsQxlAS1Tvl4Oo6XNE2TfLFkoZPZciuO1m60Lo+Nb0m//em3+wOt5zPRtuY3w480nYwq+nXd/hLLD15Ms378bxO/VzROf1T3ff8Yj3eUyPMNZ3Qr6yv3Taf5tV68pvH0q3ctQjN/5+0xGP9Jy/WdlbfsXCIPuaQb2V6mPpm+JQfnosNypugUlFrnzp66vb5VHaOq+Jr2HE7oS1YHN/7HwPUu4wzMURJKRr4QlzQVIh6Mb2glGm63/UYz1eAcFDlsckmTmyVtVbsb4Y4SWqt4cgA3OniliewnrZP3QghXlKykSJ5ou/gkBGWCbYSRi/Be1POt+PyekvVPoY0FTUYTurmVx86T7ihZqXPtX4/T0k6d+Ji2z2IlEnF6TW9lp/U6sCJojku6VzESiWz2TWsnqMeQOQodcDLZbWhxLRLJUcN2L0NzeSDQTk67C/3fzkTfEW2b3Ilfi760/FMbA+/TVH+J5gevrlY/vl5szPEifd8+xr3OL8rctk9iG2uR68fXIgztKqWNOEGumU+0EPvsNildKZNk7T3RJv0gTMLkkt2KklF+TZnG2IxjueionKnbguvu4PWtyhhVxte0Z2aIv4xe8vgfQ0znnTFHHYDfaLL4x2wXVA4RhPZ/TZfjdyJ4LP4AXuAV9neB7bt1QqOyegSFtEc9Tkw7deIRihUT2hYwx8HlmC6lMarkzYT0GDJHN+ZaB55GW0hzeSDQTk67m+3ODUNkWLVmf4nnB6+uHH/73WhIM8HreUfjS2mMxrSs37nvWo3ZXvxO6faXqaOtGfP0PU5pa77RddZPsSGNOd8F6mvnonib+NhtZOpuP0ky3nn1efbMaaH2tLVgbgicGNQkpvOOmaO5I2KcQIv7kPWCEnsYQBZn/1c0HMqX8h8o3ci7vQDqmNb+VlEBCwjSrYd4ellYQ232vmLr3vU4MbLOrcdKJAVicTLbB8MhvREd+yr9bt2phvQYN8fK+rQI1uTxBNoplPzM6I3GN8dm+ks8P3h1LdVHXodifcwxBm9o+EY8kdlPVcHYm2utZY7/MfuG6uNquHgNenu8TapzpjNMLJ4G3VdL+8aoKr7xfnYMfK4yOmaOFXdBagZVYDzb2V/8dvHNfU/gExKcTaUgH0Q1rmlgj/sHhbRHPU5MO3XiYWbNBWMVSRz59jndOe9IJPFOm8VRJRlNUKMtpLk8EGgnp93N9tInx11j/SXY9o4ReHUN6SP0nQMf4zMt7vTwoH5HLQhqkYdp9fUXNXP4k6NDqL7WNUfbJJIzc3h42Rxr7xjF4hs6H8zRwxWRxms4I77S8XMOtBKrvCMyL4HN/rbQdts5Xcux+NB4Oo/bh4YTJJWCZHPkRJtPRigIKVqP09JOnfjw9HweyrHeOfI201ELerHjmL0v5Lte7tQmjtakHzeOoj+xTvzJGS2muTwQ6LdO/+B2LHvn6LXzMf0llh/8fBLqx7G+7xyDDYNHHfz33/n7NTZQ+1o01eao3xmKJ7KyCSqVuYhzYv2cmSO2qXeBEXMsxCgWX5jjXnCjqjqqYRi/4WTwUmdm4PSLnFXGYrM6ntzuzYpzhVkUrsPjmhaJNWNNFbNvTJDO7El5V6Znw4WEFK3HCZHXfBZ4s+3s2Xx5MhDbfL34cQzMPMzjKJL79I9AHMX3nz9lmnNmErYYredm4lvot09+/9A3LNyXBuPP9MXql831l1h+2MccBVV9v5DMvZmZ/sxP+cTEk10E7rVIIuaorqli2DOWi6JtUpUzTd2y81rXUmGOhRhVxhfmCM4Q6KSaYqI7H5AHQB+I6RzmCGoBnVQDcwSg3cR0DnMEtYBOqoE5AtBuYjqHOYJaQCfdBXkA9IGYzmGOoBbQSXdBHgB9IKZzmCOoBXTSXZAHQB+I6TxojigoKCgoKH0pIWCOKCgoKCi9LiGC5ghADOikuyAPgD4Q0znMEdQCOukuyAOgD8R0DnMEtYBOugvyAOgDMZ3DHEEtoJPugjwA+kBM5zBHUAvopLsgD4A+ENN5t83R+Qv01bTlz32dy58dOxudlK2u8Nyc6rwNcNo84C92XM1R/eWA/LAfoVUkzozG26S9OS2m8zM2R16rz17j0QPm+GycjU5gjgfzrHmA1xCcLCi8eNepzHGPfBIF5qjwYgxzfFZCooM5npJ26iQAzPFgmssDgX4Lc2w3MMeMMzbHPYA5Phvt1EkAmOPBNJcH6vRbDKuelMbbpL05LabzMzBHf8VpUZT4fCHKVa2/0pRXdpcrU08/WqtaC/yVuIfXlJqV2d0Aeit4++y2dHtjrQYuV9Cer0XXEKikKFe0/sOtS7rS2wv1lL9NaS1XlxccVI8TIut+FhiTylaY53iUrFqucBKE0Rmvgi73lyuzx/Zztnurn5uftxXdRsfGt6Tf/vTb7YHW81nJavNye1P9JZYfvHyS9WO9Mv0Fr75f1ff9YzzeUSLPN5zRrayv3Ded5td68ZrG06/etVzS9O+8PQbjP2m5vrPylp1L5CGXdJPpWv5+RnOT0/Jr2DcX+W0iqMiZQtSUWufOnrq9vlEdo6r4ct+b0JesDm78j4HrXcYZmKPEN0KJL8QlTYWIB+MbWomG222/0Uw1OAdFDptc5kmRhTtKaK3iyQHc6OAJ0c+WWxE6n5+0Tt4LIVxRspIieaLt4pMQlAm2EUYuwntRz7fi83tK1j+FNhY0GU3o5lYeO0+ao2SlzrV/PU5LO3USoBCPJ9qkH0RH+40mi3+y7VFzlJ3yeq61I4ntl21f0r2KsUiEs2/5/i2muTwQ6LdOuwn9385E3xFtk9yp2GyXf2pj4H2a6i/R/ODV1dLN9WJjjhfp+/Yx7nV+Uea2fRLbTB7I6sfXIgztKqWNOIG+FnHO4SdaiH12m5SulEmydli7JpfsVpSM8msSO9DiWpgVm7F1DcFcdFTO1G3BdXfw+kZljCrja/U9ZYi/jF7y+B9DTOedMUcdAJPwmMohgtD+r+ly/E4Ej8UfwAu8wv4usH23TmhUVo+gkPaox4lpp04ChOLFSUW+EwltD5mj/y4qtp/ZPrgc06U0RpX8z4Pm8kCg3zrtFmrbyLCq1+779pd4fvDqyvGz342GYh68nnc0vpTGaEzL+p37rtWY7cXvlG5/mTraecI8fcuRCvONrrN+ii3+nq/T1aBdXzsXxdvEx24jU3f7SZLxzqvPs2dOC7WnrQXTd50Y1CSm846Zo7kjYpxAi/uQ9YISexhAFmf/VzQcypfyHyjdyLu9AOqY1v5WUQELCNKtxwOtF4kZqvH2FVv3rseJkXU+C0LxsJNONF4h7Qli+5ntg+GQ3ojEcJV+P/pO96VgTR5PoO2cdjPbzeiNxjfHZvpLPD94dS2Nb16HYn3MMQZvaPhG3HzZT1VqXzM0m2GutZY5/sfsG6qPq8EyjcbbpDpnOsPE4mnQfbW0b4yq4hvqe7pNnGuqCZ+rjI6ZY8VdkJpBFRjPdvYXv118c98T+IQEZ1MpyAdRjWsaZMMcgqCQ9qjHiWmnTgKE4mG+O+jJ0dGeILZftn1Od847lvbTXB4ItJ3TbmZ76ZPjrrH+Es0Pfl1D8Q1958DH+EyLOz08mL1jNjM43X15mFZff3Ytqj6Sw58cHUL1ta452iaRnJnDw8vmWHvHKBbf0Plgjh6uiDRewxnxlY6fc6CVWOUdkXkJbPa3hbbbzulajsWHxtN53D40nCCpFCSbIyfKfDJCQUjRepyWduokgIlHfmfrTwgwU/hNh42+i8qI7GfrgN8FtXgkwKa5PBDot07/4ORY9s6RtzfQX2L5wY9zqB/H+r5zDDYMHjXgd448rJi/X2MDta9FU22O+p2heCIrm6BSmYvEOY7MmTlim3oXGDHHQoxi8YU57gU3qqqjGobxG04GL80fz2Uy/CJnlbHYrI4nt3uz4lxhFoXr8LimRWLNWFPF7BsT5G5Ly5k980rPhgsJKVqPEyKv+SxQ8ZDtXDZjT4aEk4LYVtBNmTlG9vN14M9cbDG6jZqJb6HfPvn9QyTE9DrrS9msYm7vxvpLLD/sY46Cqr5f0Ip3I+bP/JQ65MkugoPNUV1TxbBnLBdF26QqZ5q6Zee1rsU7b2WMKuMLcwRnCHTSXZAHQB+I6RzmCGoBnXQX5AHQB2I6hzmCWkAn3QV5APSBmM5hjqAW0El3QR4AfSCmc5gjqAV00l2QB0AfiOkc5ghqAZ10F+QB0AdiOg+aIwoKCgoKSl9KCJgjCgoKCkqvS4jyZ0oAAACgp8AcAQAAAA+YIwAAAOABcwQAAAAciP5/IXQrqvr8XWMAAAAASUVORK5CYII=)"
      ]
    },
    {
      "cell_type": "markdown",
      "metadata": {
        "id": "f1OeaeN0jp4a"
      },
      "source": [
        "### **Defuzifikasi**"
      ]
    },
    {
      "cell_type": "code",
      "metadata": {
        "id": "4-yg4_jDf9QP"
      },
      "source": [
        "def defuzzifikasi(inference_set):\n",
        "  numerator, denominator = 0, 0\n",
        "  defuz_set = {'direkomendasikan': 100, 'sedang': 70, 'tidak direkomendasikan': 50}\n",
        "\n",
        "  for i in defuz_set.keys():\n",
        "        numerator += inference_set[i] * defuz_set[i]\n",
        "        denominator += inference_set[i]\n",
        "  return numerator/denominator\n"
      ],
      "execution_count": null,
      "outputs": []
    },
    {
      "cell_type": "code",
      "metadata": {
        "colab": {
          "base_uri": "https://localhost:8080/",
          "height": 227
        },
        "id": "cKE83_7GhZzX",
        "outputId": "23499e93-8af4-4690-f778-bf8784094a78"
      },
      "source": [
        "plt.figure(figsize=(8, 3))\n",
        "plt.title(\"Sugeno Model\")\n",
        "\n",
        "plt.plot([50, 50], [0, 1], label=\"tidak direkomendasikan\", color='r')\n",
        "plt.plot([70, 70], [0, 1], label=\"sedang\", color='g')\n",
        "plt.plot([100, 100], [0, 1], label=\"direkomendasikan\", color='b')\n",
        "plt.xticks(np.arange(0, 101, 10.0))\n",
        "plt.legend()\n",
        "plt.show()"
      ],
      "execution_count": null,
      "outputs": [
        {
          "output_type": "display_data",
          "data": {
            "image/png": "[encoded data removed]",
            "text/plain": [
              "<Figure size 576x216 with 1 Axes>"
            ]
          },
          "metadata": {
            "tags": [],
            "needs_background": "light"
          }
        }
      ]
    },
    {
      "cell_type": "markdown",
      "metadata": {
        "id": "Ha_vjgJnhurN"
      },
      "source": [
        "### **Main Program**"
      ]
    },
    {
      "cell_type": "code",
      "metadata": {
        "id": "1s_hnms7hzeH",
        "colab": {
          "base_uri": "https://localhost:8080/"
        },
        "outputId": "837f34f2-626e-48e5-dbe2-4bf54810d3bd"
      },
      "source": [
        "hasil_defuz = []\n",
        "\n",
        "def fuzzy_system(data_resto):\n",
        "  for i in range (len(data_resto)):\n",
        "    food = fuzzifikasi_makanan(data_resto['makanan'][i])\n",
        "    service = fuzzifikasi_pelayanan(data_resto['pelayanan'][i])\n",
        "    #print(food, service)\n",
        "    inference_set =  inferensi(food, service)\n",
        "    print(inference_set)\n",
        "    result = defuzzifikasi(inference_set)\n",
        "    #print(result)\n",
        "    hasil_defuz.append(result)\n",
        "\n",
        "  return hasil_defuz\n",
        "\n",
        "data = fuzzy_system(data_resto)\n",
        "data_resto['hasil'] = data"
      ],
      "execution_count": null,
      "outputs": [
        {
          "output_type": "stream",
          "text": [
            "{'direkomendasikan': 0, 'sedang': 1, 'tidak direkomendasikan': 0}\n",
            "{'direkomendasikan': 0, 'sedang': 0, 'tidak direkomendasikan': 1}\n",
            "{'direkomendasikan': 0, 'sedang': 0, 'tidak direkomendasikan': 1}\n",
            "{'direkomendasikan': 0, 'sedang': 0, 'tidak direkomendasikan': 1}\n",
            "{'direkomendasikan': 0, 'sedang': 0, 'tidak direkomendasikan': 1}\n",
            "{'direkomendasikan': 0, 'sedang': 1, 'tidak direkomendasikan': 0}\n",
            "{'direkomendasikan': 0, 'sedang': 0.9, 'tidak direkomendasikan': 0}\n",
            "{'direkomendasikan': 0, 'sedang': 0, 'tidak direkomendasikan': 1}\n",
            "{'direkomendasikan': 0, 'sedang': 0, 'tidak direkomendasikan': 1}\n",
            "{'direkomendasikan': 0, 'sedang': 0.6, 'tidak direkomendasikan': 0.4}\n",
            "{'direkomendasikan': 0, 'sedang': 0, 'tidak direkomendasikan': 1}\n",
            "{'direkomendasikan': 0, 'sedang': 0.8, 'tidak direkomendasikan': 0.2}\n",
            "{'direkomendasikan': 0, 'sedang': 0, 'tidak direkomendasikan': 1}\n",
            "{'direkomendasikan': 0, 'sedang': 0.1, 'tidak direkomendasikan': 0.9}\n",
            "{'direkomendasikan': 0, 'sedang': 1, 'tidak direkomendasikan': 0}\n",
            "{'direkomendasikan': 0, 'sedang': 0.8, 'tidak direkomendasikan': 0}\n",
            "{'direkomendasikan': 0, 'sedang': 0, 'tidak direkomendasikan': 1}\n",
            "{'direkomendasikan': 0, 'sedang': 0, 'tidak direkomendasikan': 1}\n",
            "{'direkomendasikan': 0, 'sedang': 0, 'tidak direkomendasikan': 1}\n",
            "{'direkomendasikan': 0, 'sedang': 1, 'tidak direkomendasikan': 0}\n",
            "{'direkomendasikan': 0, 'sedang': 0, 'tidak direkomendasikan': 1}\n",
            "{'direkomendasikan': 1, 'sedang': 0, 'tidak direkomendasikan': 0}\n",
            "{'direkomendasikan': 0, 'sedang': 0, 'tidak direkomendasikan': 1}\n",
            "{'direkomendasikan': 1, 'sedang': 0, 'tidak direkomendasikan': 0}\n",
            "{'direkomendasikan': 0.1, 'sedang': 0.9, 'tidak direkomendasikan': 0}\n",
            "{'direkomendasikan': 0, 'sedang': 0, 'tidak direkomendasikan': 1}\n",
            "{'direkomendasikan': 0, 'sedang': 1, 'tidak direkomendasikan': 0}\n",
            "{'direkomendasikan': 0, 'sedang': 0, 'tidak direkomendasikan': 1}\n",
            "{'direkomendasikan': 0, 'sedang': 0, 'tidak direkomendasikan': 1}\n",
            "{'direkomendasikan': 0, 'sedang': 0, 'tidak direkomendasikan': 1}\n",
            "{'direkomendasikan': 1, 'sedang': 0, 'tidak direkomendasikan': 0}\n",
            "{'direkomendasikan': 0, 'sedang': 0, 'tidak direkomendasikan': 1}\n",
            "{'direkomendasikan': 0, 'sedang': 0.3, 'tidak direkomendasikan': 0.7}\n",
            "{'direkomendasikan': 0, 'sedang': 1, 'tidak direkomendasikan': 0}\n",
            "{'direkomendasikan': 0, 'sedang': 0, 'tidak direkomendasikan': 1}\n",
            "{'direkomendasikan': 0, 'sedang': 0, 'tidak direkomendasikan': 0.8}\n",
            "{'direkomendasikan': 0, 'sedang': 0, 'tidak direkomendasikan': 0.9}\n",
            "{'direkomendasikan': 0, 'sedang': 0, 'tidak direkomendasikan': 1}\n",
            "{'direkomendasikan': 0, 'sedang': 1, 'tidak direkomendasikan': 0}\n",
            "{'direkomendasikan': 0, 'sedang': 0, 'tidak direkomendasikan': 1}\n",
            "{'direkomendasikan': 0, 'sedang': 0, 'tidak direkomendasikan': 0.7}\n",
            "{'direkomendasikan': 1, 'sedang': 0, 'tidak direkomendasikan': 0}\n",
            "{'direkomendasikan': 0, 'sedang': 0, 'tidak direkomendasikan': 0.6}\n",
            "{'direkomendasikan': 0, 'sedang': 0, 'tidak direkomendasikan': 0.7}\n",
            "{'direkomendasikan': 0, 'sedang': 0, 'tidak direkomendasikan': 1}\n",
            "{'direkomendasikan': 0, 'sedang': 0, 'tidak direkomendasikan': 0.8}\n",
            "{'direkomendasikan': 0, 'sedang': 0, 'tidak direkomendasikan': 1}\n",
            "{'direkomendasikan': 0, 'sedang': 0.4, 'tidak direkomendasikan': 0.6}\n",
            "{'direkomendasikan': 0, 'sedang': 0, 'tidak direkomendasikan': 1}\n",
            "{'direkomendasikan': 0, 'sedang': 0, 'tidak direkomendasikan': 1}\n",
            "{'direkomendasikan': 0, 'sedang': 1, 'tidak direkomendasikan': 0}\n",
            "{'direkomendasikan': 0, 'sedang': 0, 'tidak direkomendasikan': 1}\n",
            "{'direkomendasikan': 0, 'sedang': 0, 'tidak direkomendasikan': 1}\n",
            "{'direkomendasikan': 0.4, 'sedang': 0.6, 'tidak direkomendasikan': 0}\n",
            "{'direkomendasikan': 0, 'sedang': 1, 'tidak direkomendasikan': 0}\n",
            "{'direkomendasikan': 0, 'sedang': 0, 'tidak direkomendasikan': 1}\n",
            "{'direkomendasikan': 0, 'sedang': 0, 'tidak direkomendasikan': 1}\n",
            "{'direkomendasikan': 0, 'sedang': 0, 'tidak direkomendasikan': 0.9}\n",
            "{'direkomendasikan': 0, 'sedang': 0, 'tidak direkomendasikan': 1}\n",
            "{'direkomendasikan': 0, 'sedang': 1, 'tidak direkomendasikan': 0}\n",
            "{'direkomendasikan': 0, 'sedang': 0, 'tidak direkomendasikan': 1}\n",
            "{'direkomendasikan': 0, 'sedang': 0.1, 'tidak direkomendasikan': 0.9}\n",
            "{'direkomendasikan': 0, 'sedang': 1, 'tidak direkomendasikan': 0}\n",
            "{'direkomendasikan': 0, 'sedang': 0, 'tidak direkomendasikan': 0.5}\n",
            "{'direkomendasikan': 0, 'sedang': 0, 'tidak direkomendasikan': 1}\n",
            "{'direkomendasikan': 0, 'sedang': 0, 'tidak direkomendasikan': 1}\n",
            "{'direkomendasikan': 0, 'sedang': 0, 'tidak direkomendasikan': 1}\n",
            "{'direkomendasikan': 0, 'sedang': 0, 'tidak direkomendasikan': 1}\n",
            "{'direkomendasikan': 0.6, 'sedang': 0, 'tidak direkomendasikan': 0}\n",
            "{'direkomendasikan': 0, 'sedang': 1, 'tidak direkomendasikan': 0}\n",
            "{'direkomendasikan': 0, 'sedang': 0, 'tidak direkomendasikan': 0.9}\n",
            "{'direkomendasikan': 0, 'sedang': 0, 'tidak direkomendasikan': 1}\n",
            "{'direkomendasikan': 0, 'sedang': 0, 'tidak direkomendasikan': 1}\n",
            "{'direkomendasikan': 0, 'sedang': 0, 'tidak direkomendasikan': 1}\n",
            "{'direkomendasikan': 0, 'sedang': 0, 'tidak direkomendasikan': 0.9}\n",
            "{'direkomendasikan': 0, 'sedang': 0, 'tidak direkomendasikan': 1}\n",
            "{'direkomendasikan': 0, 'sedang': 0, 'tidak direkomendasikan': 1}\n",
            "{'direkomendasikan': 0, 'sedang': 0, 'tidak direkomendasikan': 1}\n",
            "{'direkomendasikan': 0.7, 'sedang': 0, 'tidak direkomendasikan': 0}\n",
            "{'direkomendasikan': 0, 'sedang': 0.9, 'tidak direkomendasikan': 0.1}\n",
            "{'direkomendasikan': 0, 'sedang': 0, 'tidak direkomendasikan': 1}\n",
            "{'direkomendasikan': 0, 'sedang': 0, 'tidak direkomendasikan': 1}\n",
            "{'direkomendasikan': 0, 'sedang': 0.9, 'tidak direkomendasikan': 0}\n",
            "{'direkomendasikan': 0, 'sedang': 0, 'tidak direkomendasikan': 1}\n",
            "{'direkomendasikan': 0, 'sedang': 0, 'tidak direkomendasikan': 1}\n",
            "{'direkomendasikan': 0, 'sedang': 0, 'tidak direkomendasikan': 1}\n",
            "{'direkomendasikan': 0, 'sedang': 0, 'tidak direkomendasikan': 1}\n",
            "{'direkomendasikan': 0, 'sedang': 0, 'tidak direkomendasikan': 1}\n",
            "{'direkomendasikan': 0, 'sedang': 0, 'tidak direkomendasikan': 1}\n",
            "{'direkomendasikan': 0, 'sedang': 0, 'tidak direkomendasikan': 1}\n",
            "{'direkomendasikan': 0, 'sedang': 0, 'tidak direkomendasikan': 1}\n",
            "{'direkomendasikan': 0, 'sedang': 0, 'tidak direkomendasikan': 0.7}\n",
            "{'direkomendasikan': 0, 'sedang': 1, 'tidak direkomendasikan': 0}\n",
            "{'direkomendasikan': 0, 'sedang': 0, 'tidak direkomendasikan': 1}\n",
            "{'direkomendasikan': 0, 'sedang': 0.7, 'tidak direkomendasikan': 0}\n",
            "{'direkomendasikan': 0, 'sedang': 0, 'tidak direkomendasikan': 1}\n",
            "{'direkomendasikan': 0, 'sedang': 0, 'tidak direkomendasikan': 1}\n",
            "{'direkomendasikan': 0, 'sedang': 0, 'tidak direkomendasikan': 1}\n",
            "{'direkomendasikan': 0, 'sedang': 0, 'tidak direkomendasikan': 1}\n",
            "{'direkomendasikan': 0, 'sedang': 0, 'tidak direkomendasikan': 1}\n"
          ],
          "name": "stdout"
        }
      ]
    },
    {
      "cell_type": "code",
      "metadata": {
        "colab": {
          "base_uri": "https://localhost:8080/",
          "height": 355
        },
        "id": "6ytx4P_W6ohI",
        "outputId": "06260428-a758-4872-e518-bb96f76191a7"
      },
      "source": [
        "data_resto = data_resto.sort_values(by='hasil', ascending=False)\n",
        "data_resto = data_resto.head(10)\n",
        "\n",
        "data_resto['id'].to_excel('peringkat.xls', index=False, header=False)  \n",
        "data_resto"
      ],
      "execution_count": null,
      "outputs": [
        {
          "output_type": "execute_result",
          "data": {
            "text/html": [
              "<div>\n",
              "<style scoped>\n",
              "    .dataframe tbody tr th:only-of-type {\n",
              "        vertical-align: middle;\n",
              "    }\n",
              "\n",
              "    .dataframe tbody tr th {\n",
              "        vertical-align: top;\n",
              "    }\n",
              "\n",
              "    .dataframe thead th {\n",
              "        text-align: right;\n",
              "    }\n",
              "</style>\n",
              "<table border=\"1\" class=\"dataframe\">\n",
              "  <thead>\n",
              "    <tr style=\"text-align: right;\">\n",
              "      <th></th>\n",
              "      <th>id</th>\n",
              "      <th>pelayanan</th>\n",
              "      <th>makanan</th>\n",
              "      <th>hasil</th>\n",
              "    </tr>\n",
              "  </thead>\n",
              "  <tbody>\n",
              "    <tr>\n",
              "      <th>23</th>\n",
              "      <td>24</td>\n",
              "      <td>100</td>\n",
              "      <td>9</td>\n",
              "      <td>100.0</td>\n",
              "    </tr>\n",
              "    <tr>\n",
              "      <th>30</th>\n",
              "      <td>31</td>\n",
              "      <td>74</td>\n",
              "      <td>9</td>\n",
              "      <td>100.0</td>\n",
              "    </tr>\n",
              "    <tr>\n",
              "      <th>78</th>\n",
              "      <td>79</td>\n",
              "      <td>87</td>\n",
              "      <td>9</td>\n",
              "      <td>100.0</td>\n",
              "    </tr>\n",
              "    <tr>\n",
              "      <th>68</th>\n",
              "      <td>69</td>\n",
              "      <td>86</td>\n",
              "      <td>10</td>\n",
              "      <td>100.0</td>\n",
              "    </tr>\n",
              "    <tr>\n",
              "      <th>21</th>\n",
              "      <td>22</td>\n",
              "      <td>79</td>\n",
              "      <td>9</td>\n",
              "      <td>100.0</td>\n",
              "    </tr>\n",
              "    <tr>\n",
              "      <th>41</th>\n",
              "      <td>42</td>\n",
              "      <td>94</td>\n",
              "      <td>10</td>\n",
              "      <td>100.0</td>\n",
              "    </tr>\n",
              "    <tr>\n",
              "      <th>53</th>\n",
              "      <td>54</td>\n",
              "      <td>64</td>\n",
              "      <td>10</td>\n",
              "      <td>82.0</td>\n",
              "    </tr>\n",
              "    <tr>\n",
              "      <th>24</th>\n",
              "      <td>25</td>\n",
              "      <td>61</td>\n",
              "      <td>10</td>\n",
              "      <td>73.0</td>\n",
              "    </tr>\n",
              "    <tr>\n",
              "      <th>26</th>\n",
              "      <td>27</td>\n",
              "      <td>59</td>\n",
              "      <td>8</td>\n",
              "      <td>70.0</td>\n",
              "    </tr>\n",
              "    <tr>\n",
              "      <th>33</th>\n",
              "      <td>34</td>\n",
              "      <td>93</td>\n",
              "      <td>4</td>\n",
              "      <td>70.0</td>\n",
              "    </tr>\n",
              "  </tbody>\n",
              "</table>\n",
              "</div>"
            ],
            "text/plain": [
              "    id  pelayanan  makanan  hasil\n",
              "23  24        100        9  100.0\n",
              "30  31         74        9  100.0\n",
              "78  79         87        9  100.0\n",
              "68  69         86       10  100.0\n",
              "21  22         79        9  100.0\n",
              "41  42         94       10  100.0\n",
              "53  54         64       10   82.0\n",
              "24  25         61       10   73.0\n",
              "26  27         59        8   70.0\n",
              "33  34         93        4   70.0"
            ]
          },
          "metadata": {
            "tags": []
          },
          "execution_count": 70
        }
      ]
    },
    {
      "cell_type": "code",
      "metadata": {
        "id": "4tpDy1Rr6qF3"
      },
      "source": [
        ""
      ],
      "execution_count": null,
      "outputs": []
    }
  ]
}